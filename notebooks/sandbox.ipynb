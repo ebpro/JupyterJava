{
 "cells": [
  {
   "cell_type": "markdown",
   "metadata": {},
   "source": [
    "# EB Magics"
   ]
  },
  {
   "cell_type": "markdown",
   "metadata": {},
   "source": [
    "## New renderer"
   ]
  },
  {
   "cell_type": "code",
   "execution_count": 1,
   "metadata": {},
   "outputs": [
    {
     "ename": "CompilationException",
     "evalue": "",
     "output_type": "error",
     "traceback": [
      "\u001b[1m\u001b[30m|   \u001b[1m\u001b[30m    .createRegistration(\u001b[0m\u001b[1m\u001b[30m\u001b[41mtech.tablesaw.plotly.components.Figure\u001b[0m\u001b[1m\u001b[30m.class)\u001b[0m",
      "\u001b[1m\u001b[31mpackage tech.tablesaw.plotly.components does not exist\u001b[0m",
      ""
     ]
    }
   ],
   "source": [
    "import io.github.spencerpark.ijava.IJava;\n",
    "\n",
    "IJava.getKernelInstance().getRenderer()\n",
    "    .createRegistration(tech.tablesaw.plotly.components.Figure.class)\n",
    "    .preferring(io.github.spencerpark.jupyter.kernel.display.mime.MIMEType.TEXT_HTML)\n",
    "    .register((figure, ctx) -> {\n",
    "      /*  ctx.renderIfRequested(io.github.spencerpark.jupyter.kernel.display.mime.MIMEType.TEXT_HTML, () -> {\n",
    "            String id = UUID.randomUUID().toString().replace(\"-\", \"\");\n",
    "\n",
    "            figure.asJavascript(id);\n",
    "            Map<String, Object> context = figure.getContext();\n",
    "\n",
    "            StringBuilder html = new StringBuilder();\n",
    "            html.append(\"<div id=\\\"\").append(id).append(\"\\\"></div>\\n\");\n",
    "            html.append(\"<script>require(['https://cdn.plot.ly/plotly-1.44.4.min.js'], Plotly => {\\n\");\n",
    "            html.append(\"var target_\").append(id).append(\" = document.getElementById('\").append(id).append(\"');\\n\");\n",
    "            html.append(context.get(\"figure\")).append('\\n');\n",
    "            html.append(context.get(\"plotFunction\")).append('\\n');\n",
    "            html.append(\"})</script>\\n\");\n",
    "            return html.toString();\n",
    "        });*/\n",
    "      ctx.renderIfRequested(io.github.spencerpark.jupyter.kernel.display.mime.MIMEType.TEXT_HTML, () -> {            \n",
    "          String id = UUID.randomUUID().toString().replace(\"-\", \"\");\n",
    "           figure.asJavascript(id);\n",
    "            return \"AIE (\"+id+\") [\"+ figure.asJavascript(\"TEST\")+\"]\";\n",
    "        });\n",
    "    \n",
    "    \n",
    "    \n",
    "    \n",
    "    })\n",
    "    \n",
    "    \n",
    "    \n",
    "    ;"
   ]
  },
  {
   "cell_type": "code",
   "execution_count": null,
   "metadata": {},
   "outputs": [],
   "source": []
  },
  {
   "cell_type": "code",
   "execution_count": 2,
   "metadata": {},
   "outputs": [
    {
     "ename": "CompilationException",
     "evalue": "",
     "output_type": "error",
     "traceback": [
      "\u001b[1m\u001b[30m|   \u001b[1m\u001b[30m\u001b[0m\u001b[1m\u001b[30m\u001b[41m\u001b[0m\u001b[1m\u001b[30mimport tech.tablesaw.api.*;\u001b[0m",
      "\u001b[1m\u001b[31mpackage tech.tablesaw.api does not exist\u001b[0m",
      ""
     ]
    }
   ],
   "source": [
    "import tech.tablesaw.api.*;\n",
    "import tech.tablesaw.plotly.api.*;\n",
    "import tech.tablesaw.plotly.components.*;\n",
    "\n",
    "String[] animals = {\"bear\", \"cat\", \"giraffe\"};\n",
    "double[] cuteness = {90.1, 84.3, 99.7};\n",
    "\n",
    "Table cuteAnimals = Table.create(\"Cute Animals\")\n",
    "    .addColumns(\n",
    "        StringColumn.create(\"Animal types\", animals),\n",
    "        DoubleColumn.create(\"rating\", cuteness)\n",
    "    );\n",
    "cuteAnimals.structure()"
   ]
  },
  {
   "cell_type": "code",
   "execution_count": 3,
   "metadata": {},
   "outputs": [
    {
     "ename": "CompilationException",
     "evalue": "",
     "output_type": "error",
     "traceback": [
      "\u001b[1m\u001b[30m|   \u001b[1m\u001b[30mVerticalBarPlot.create(\"Cute animals\", \u001b[0m\u001b[1m\u001b[30m\u001b[41mcuteAnimals\u001b[0m\u001b[1m\u001b[30m, \"Animal types\", \"rating\");\u001b[0m",
      "\u001b[1m\u001b[31mcannot find symbol\u001b[0m",
      "\u001b[1m\u001b[31m  symbol:   variable cuteAnimals\u001b[0m",
      "",
      "\u001b[1m\u001b[30m|   \u001b[1m\u001b[30m\u001b[0m\u001b[1m\u001b[30m\u001b[41mVerticalBarPlot\u001b[0m\u001b[1m\u001b[30m.create(\"Cute animals\", cuteAnimals, \"Animal types\", \"rating\");\u001b[0m",
      "\u001b[1m\u001b[31mcannot find symbol\u001b[0m",
      "\u001b[1m\u001b[31m  symbol:   variable VerticalBarPlot\u001b[0m",
      ""
     ]
    }
   ],
   "source": [
    "VerticalBarPlot.create(\"Cute animals\", cuteAnimals, \"Animal types\", \"rating\");"
   ]
  },
  {
   "cell_type": "code",
   "execution_count": 4,
   "metadata": {},
   "outputs": [
    {
     "ename": "CompilationException",
     "evalue": "",
     "output_type": "error",
     "traceback": [
      "\u001b[1m\u001b[30m|   \u001b[1m\u001b[30mrender(VerticalBarPlot.create(\"Cute animals\", \u001b[0m\u001b[1m\u001b[30m\u001b[41mcuteAnimals\u001b[0m\u001b[1m\u001b[30m, \"Animal types\", \"rating\"), \"text/html\");\u001b[0m",
      "\u001b[1m\u001b[31mcannot find symbol\u001b[0m",
      "\u001b[1m\u001b[31m  symbol:   variable cuteAnimals\u001b[0m",
      "",
      "\u001b[1m\u001b[30m|   \u001b[1m\u001b[30mrender(\u001b[0m\u001b[1m\u001b[30m\u001b[41mVerticalBarPlot\u001b[0m\u001b[1m\u001b[30m.create(\"Cute animals\", cuteAnimals, \"Animal types\", \"rating\"), \"text/html\");\u001b[0m",
      "\u001b[1m\u001b[31mcannot find symbol\u001b[0m",
      "\u001b[1m\u001b[31m  symbol:   variable VerticalBarPlot\u001b[0m",
      ""
     ]
    }
   ],
   "source": [
    "render(VerticalBarPlot.create(\"Cute animals\", cuteAnimals, \"Animal types\", \"rating\"), \"text/html\");"
   ]
  },
  {
   "cell_type": "code",
   "execution_count": 5,
   "metadata": {},
   "outputs": [
    {
     "ename": "CompilationException",
     "evalue": "",
     "output_type": "error",
     "traceback": [
      "\u001b[1m\u001b[30m|   \u001b[1m\u001b[30m\u001b[0m\u001b[1m\u001b[30m\u001b[41mFigure\u001b[0m\u001b[1m\u001b[30m figure = VerticalBarPlot.create(\"Cute animals\", cuteAnimals, \"Animal types\", \"rating\");\u001b[0m",
      "\u001b[1m\u001b[31mcannot find symbol\u001b[0m",
      "\u001b[1m\u001b[31m  symbol:   class Figure\u001b[0m",
      "",
      "\u001b[1m\u001b[30m|   \u001b[1m\u001b[30mFigure figure = VerticalBarPlot.create(\"Cute animals\", \u001b[0m\u001b[1m\u001b[30m\u001b[41mcuteAnimals\u001b[0m\u001b[1m\u001b[30m, \"Animal types\", \"rating\");\u001b[0m",
      "\u001b[1m\u001b[31mcannot find symbol\u001b[0m",
      "\u001b[1m\u001b[31m  symbol:   variable cuteAnimals\u001b[0m",
      "",
      "\u001b[1m\u001b[30m|   \u001b[1m\u001b[30mFigure figure = \u001b[0m\u001b[1m\u001b[30m\u001b[41mVerticalBarPlot\u001b[0m\u001b[1m\u001b[30m.create(\"Cute animals\", cuteAnimals, \"Animal types\", \"rating\");\u001b[0m",
      "\u001b[1m\u001b[31mcannot find symbol\u001b[0m",
      "\u001b[1m\u001b[31m  symbol:   variable VerticalBarPlot\u001b[0m",
      ""
     ]
    }
   ],
   "source": [
    "Figure figure = VerticalBarPlot.create(\"Cute animals\", cuteAnimals, \"Animal types\", \"rating\");\n",
    "display(figure);\n",
    "\n",
    "cuteAnimals"
   ]
  },
  {
   "cell_type": "code",
   "execution_count": 6,
   "metadata": {},
   "outputs": [
    {
     "ename": "CompilationException",
     "evalue": "",
     "output_type": "error",
     "traceback": [
      "\u001b[1m\u001b[30m|   \u001b[1m\u001b[30m\u001b[0m\u001b[1m\u001b[30m\u001b[41m\u001b[0m\u001b[1m\u001b[30mimport net.sourceforge.plantuml.*;\u001b[0m",
      "\u001b[1m\u001b[31mpackage net.sourceforge.plantuml does not exist\u001b[0m",
      ""
     ]
    }
   ],
   "source": [
    "\n",
    "import net.sourceforge.plantuml.*;\n",
    "import net.sourceforge.plantuml.core.DiagramDescription;\n",
    "\n",
    "import java.io.ByteArrayOutputStream;\n",
    "import java.io.IOException;\n",
    "import java.nio.charset.Charset;"
   ]
  },
  {
   "cell_type": "code",
   "execution_count": 7,
   "metadata": {},
   "outputs": [],
   "source": [
    "%%loadFromPOM\n",
    "<dependency>\n",
    "    <groupId>tech.tablesaw</groupId>\n",
    "    <artifactId>tablesaw-jsplot</artifactId>\n",
    "    <version>0.38.0</version>\n",
    "</dependency>\n",
    "<dependency> \n",
    "  <groupId>org.slf4j</groupId>\n",
    "  <artifactId>slf4j-jdk14</artifactId>\n",
    "  <version>1.7.28</version>\n",
    "</dependency>"
   ]
  },
  {
   "cell_type": "markdown",
   "metadata": {},
   "source": [
    "## plantUML Magics"
   ]
  },
  {
   "cell_type": "code",
   "execution_count": 6,
   "metadata": {},
   "outputs": [],
   "source": [
    "%jars /usr/local/bin/plantuml.jar\n",
    "\n",
    "import io.github.spencerpark.ijava.IJava;\n",
    "import net.sourceforge.plantuml.*;\n",
    "import net.sourceforge.plantuml.core.DiagramDescription;\n",
    "import java.nio.charset.Charset;\n",
    "import javax.imageio.ImageIO;\n",
    "import java.nio.file.Files;\n",
    "import java.nio.file.Path;\n",
    "import java.nio.file.Paths;\n",
    "\n",
    "\n",
    "\n",
    "/**\n",
    "Render plantUML from cell\n",
    "*/\n",
    "IJava.getKernelInstance().getMagics().registerCellMagic(\"plantUML\", (args, body) -> {\n",
    "        //sets the results mimetype\n",
    "        if (args.size()>1) throw new Exception(\"Max one argument : SVG or PNG\");\n",
    "        String fileFormat;\n",
    "        if (args.size()==0) fileFormat=\"SVG\"; \n",
    "          else fileFormat=args.get(0);    \n",
    "        \n",
    "        SourceStringReader reader = new SourceStringReader(body);\n",
    "        final ByteArrayOutputStream os = new ByteArrayOutputStream();\n",
    "\n",
    "        DiagramDescription desc = reader.outputImage(os, new FileFormatOption(FileFormat.valueOf(fileFormat)));\n",
    "        os.close();\n",
    "        Object out;\n",
    "        if (fileFormat.equals(\"SVG\"))\n",
    "            out = new String(os.toByteArray(), Charset.forName(\"UTF-8\"));\n",
    "        else \n",
    "            out= ImageIO.read(new ByteArrayInputStream(os.toByteArray()));\n",
    "        \n",
    "        display(out,fileFormat.equals(\"SVG\")?\"image/svg+xml\":\"image/png\");\n",
    "        return out;\n",
    "        });\n",
    "\n",
    "/**\n",
    "Render plantUML from file\n",
    "*/\n",
    "IJava.getKernelInstance().getMagics().registerCellMagic(\"plantUMLFile\", (args, body) -> {    \n",
    "    //sets the results mimetype\n",
    "    if (args.size()>1) throw new Exception(\"Max one argument : SVG or PNG\");\n",
    "    String fileFormat;\n",
    "    if (args.size()==0) fileFormat=\"SVG\"; \n",
    "    else fileFormat=args.get(0);\n",
    "    \n",
    "    List<String> l = new ArrayList<>();\n",
    "\n",
    "    List<Object> outList = new ArrayList<>();\n",
    "    body.lines().forEach(filename-> {\n",
    "     Object out;        \n",
    "     try {        \n",
    "        out=cellMagic(\"plantUML\",args,Files.readString(Paths.get(filename)));\n",
    "        //display(out,fileFormat.equals(\"SVG\")?\"image/svg+xml\":\"image/png\");\n",
    "        outList.add(out);\n",
    "     } catch (java.io.IOException e) {}\n",
    "    });    \n",
    "    \n",
    "        return outList;\n",
    "                \n",
    "        });\n",
    "    "
   ]
  },
  {
   "cell_type": "markdown",
   "metadata": {},
   "source": [
    "# UML\n",
    "Ceci est une explication. vsdfgndfo\n",
    "\n",
    "  * liste1\n",
    "  * liste1"
   ]
  },
  {
   "cell_type": "code",
   "execution_count": 8,
   "metadata": {},
   "outputs": [
    {
     "data": {
      "image/svg+xml": [
       "<?xml version=\"1.0\" encoding=\"UTF-8\" standalone=\"no\"?><svg xmlns=\"http://www.w3.org/2000/svg\" xmlns:xlink=\"http://www.w3.org/1999/xlink\" contentScriptType=\"application/ecmascript\" contentStyleType=\"text/css\" height=\"182px\" preserveAspectRatio=\"none\" style=\"width:454px;height:182px;\" version=\"1.1\" viewBox=\"0 0 454 182\" width=\"454px\" zoomAndPan=\"magnify\"><defs><filter height=\"300%\" id=\"fcaplhuiqq3bi\" width=\"300%\" x=\"-1\" y=\"-1\"><feGaussianBlur result=\"blurOut\" stdDeviation=\"2.0\"/><feColorMatrix in=\"blurOut\" result=\"blurOut2\" type=\"matrix\" values=\"0 0 0 0 0 0 0 0 0 0 0 0 0 0 0 0 0 0 .4 0\"/><feOffset dx=\"4.0\" dy=\"4.0\" in=\"blurOut2\" result=\"blurOut3\"/><feBlend in=\"SourceGraphic\" in2=\"blurOut3\" mode=\"normal\"/></filter></defs><g><!--MD5=[d218c48b946d362ff1ecd879cabebcad]\n",
       "class Room--><rect fill=\"#FEFECE\" filter=\"url(#fcaplhuiqq3bi)\" height=\"48\" id=\"Room\" style=\"stroke: #A80036; stroke-width: 1.5;\" width=\"67\" x=\"192.5\" y=\"7\"/><ellipse cx=\"207.5\" cy=\"23\" fill=\"#ADD1B2\" rx=\"11\" ry=\"11\" style=\"stroke: #A80036; stroke-width: 1.0;\"/><path d=\"M210.4688,28.6406 Q209.8906,28.9375 209.25,29.0781 Q208.6094,29.2344 207.9063,29.2344 Q205.4063,29.2344 204.0781,27.5938 Q202.7656,25.9375 202.7656,22.8125 Q202.7656,19.6875 204.0781,18.0313 Q205.4063,16.375 207.9063,16.375 Q208.6094,16.375 209.25,16.5313 Q209.9063,16.6875 210.4688,16.9844 L210.4688,19.7031 Q209.8438,19.125 209.25,18.8594 Q208.6563,18.5781 208.0313,18.5781 Q206.6875,18.5781 206,19.6563 Q205.3125,20.7188 205.3125,22.8125 Q205.3125,24.9063 206,25.9844 Q206.6875,27.0469 208.0313,27.0469 Q208.6563,27.0469 209.25,26.7813 Q209.8438,26.5 210.4688,25.9219 L210.4688,28.6406 Z \"/><text fill=\"#000000\" font-family=\"sans-serif\" font-size=\"12\" lengthAdjust=\"spacingAndGlyphs\" textLength=\"35\" x=\"221.5\" y=\"27.1543\">Room</text><line style=\"stroke: #A80036; stroke-width: 1.5;\" x1=\"193.5\" x2=\"258.5\" y1=\"39\" y2=\"39\"/><line style=\"stroke: #A80036; stroke-width: 1.5;\" x1=\"193.5\" x2=\"258.5\" y1=\"47\" y2=\"47\"/><!--MD5=[d6181cb537bdc20c0a3007a98a56832d]\n",
       "class Student--><rect fill=\"#FEFECE\" filter=\"url(#fcaplhuiqq3bi)\" height=\"48\" id=\"Student\" style=\"stroke: #A80036; stroke-width: 1.5;\" width=\"82\" x=\"295\" y=\"7\"/><ellipse cx=\"310\" cy=\"23\" fill=\"#ADD1B2\" rx=\"11\" ry=\"11\" style=\"stroke: #A80036; stroke-width: 1.0;\"/><path d=\"M312.9688,28.6406 Q312.3906,28.9375 311.75,29.0781 Q311.1094,29.2344 310.4063,29.2344 Q307.9063,29.2344 306.5781,27.5938 Q305.2656,25.9375 305.2656,22.8125 Q305.2656,19.6875 306.5781,18.0313 Q307.9063,16.375 310.4063,16.375 Q311.1094,16.375 311.75,16.5313 Q312.4063,16.6875 312.9688,16.9844 L312.9688,19.7031 Q312.3438,19.125 311.75,18.8594 Q311.1563,18.5781 310.5313,18.5781 Q309.1875,18.5781 308.5,19.6563 Q307.8125,20.7188 307.8125,22.8125 Q307.8125,24.9063 308.5,25.9844 Q309.1875,27.0469 310.5313,27.0469 Q311.1563,27.0469 311.75,26.7813 Q312.3438,26.5 312.9688,25.9219 L312.9688,28.6406 Z \"/><text fill=\"#000000\" font-family=\"sans-serif\" font-size=\"12\" lengthAdjust=\"spacingAndGlyphs\" textLength=\"50\" x=\"324\" y=\"27.1543\">Student</text><line style=\"stroke: #A80036; stroke-width: 1.5;\" x1=\"296\" x2=\"376\" y1=\"39\" y2=\"39\"/><line style=\"stroke: #A80036; stroke-width: 1.5;\" x1=\"296\" x2=\"376\" y1=\"47\" y2=\"47\"/><!--MD5=[d29c9a6f599273240dc5c7dc802fb3eb]\n",
       "class Chair--><rect fill=\"#FEFECE\" filter=\"url(#fcaplhuiqq3bi)\" height=\"48\" id=\"Chair\" style=\"stroke: #A80036; stroke-width: 1.5;\" width=\"64\" x=\"7\" y=\"115\"/><ellipse cx=\"22\" cy=\"131\" fill=\"#ADD1B2\" rx=\"11\" ry=\"11\" style=\"stroke: #A80036; stroke-width: 1.0;\"/><path d=\"M24.9688,136.6406 Q24.3906,136.9375 23.75,137.0781 Q23.1094,137.2344 22.4063,137.2344 Q19.9063,137.2344 18.5781,135.5938 Q17.2656,133.9375 17.2656,130.8125 Q17.2656,127.6875 18.5781,126.0313 Q19.9063,124.375 22.4063,124.375 Q23.1094,124.375 23.75,124.5313 Q24.4063,124.6875 24.9688,124.9844 L24.9688,127.7031 Q24.3438,127.125 23.75,126.8594 Q23.1563,126.5781 22.5313,126.5781 Q21.1875,126.5781 20.5,127.6563 Q19.8125,128.7188 19.8125,130.8125 Q19.8125,132.9063 20.5,133.9844 Q21.1875,135.0469 22.5313,135.0469 Q23.1563,135.0469 23.75,134.7813 Q24.3438,134.5 24.9688,133.9219 L24.9688,136.6406 Z \"/><text fill=\"#000000\" font-family=\"sans-serif\" font-size=\"12\" lengthAdjust=\"spacingAndGlyphs\" textLength=\"32\" x=\"36\" y=\"135.1543\">Chair</text><line style=\"stroke: #A80036; stroke-width: 1.5;\" x1=\"8\" x2=\"70\" y1=\"147\" y2=\"147\"/><line style=\"stroke: #A80036; stroke-width: 1.5;\" x1=\"8\" x2=\"70\" y1=\"155\" y2=\"155\"/><!--MD5=[485e504ead8655105acf294cbc41580a]\n",
       "class Blackboard--><rect fill=\"#FEFECE\" filter=\"url(#fcaplhuiqq3bi)\" height=\"48\" id=\"Blackboard\" style=\"stroke: #A80036; stroke-width: 1.5;\" width=\"102\" x=\"106\" y=\"115\"/><ellipse cx=\"121\" cy=\"131\" fill=\"#ADD1B2\" rx=\"11\" ry=\"11\" style=\"stroke: #A80036; stroke-width: 1.0;\"/><path d=\"M123.9688,136.6406 Q123.3906,136.9375 122.75,137.0781 Q122.1094,137.2344 121.4063,137.2344 Q118.9063,137.2344 117.5781,135.5938 Q116.2656,133.9375 116.2656,130.8125 Q116.2656,127.6875 117.5781,126.0313 Q118.9063,124.375 121.4063,124.375 Q122.1094,124.375 122.75,124.5313 Q123.4063,124.6875 123.9688,124.9844 L123.9688,127.7031 Q123.3438,127.125 122.75,126.8594 Q122.1563,126.5781 121.5313,126.5781 Q120.1875,126.5781 119.5,127.6563 Q118.8125,128.7188 118.8125,130.8125 Q118.8125,132.9063 119.5,133.9844 Q120.1875,135.0469 121.5313,135.0469 Q122.1563,135.0469 122.75,134.7813 Q123.3438,134.5 123.9688,133.9219 L123.9688,136.6406 Z \"/><text fill=\"#000000\" font-family=\"sans-serif\" font-size=\"12\" lengthAdjust=\"spacingAndGlyphs\" textLength=\"70\" x=\"135\" y=\"135.1543\">Blackboard</text><line style=\"stroke: #A80036; stroke-width: 1.5;\" x1=\"107\" x2=\"207\" y1=\"147\" y2=\"147\"/><line style=\"stroke: #A80036; stroke-width: 1.5;\" x1=\"107\" x2=\"207\" y1=\"155\" y2=\"155\"/><!--MD5=[9a0414834f4d1aaf9f2245d9d37f3aa0]\n",
       "class Whiteboard--><rect fill=\"#FEFECE\" filter=\"url(#fcaplhuiqq3bi)\" height=\"48\" id=\"Whiteboard\" style=\"stroke: #A80036; stroke-width: 1.5;\" width=\"104\" x=\"243\" y=\"115\"/><ellipse cx=\"258\" cy=\"131\" fill=\"#ADD1B2\" rx=\"11\" ry=\"11\" style=\"stroke: #A80036; stroke-width: 1.0;\"/><path d=\"M260.9688,136.6406 Q260.3906,136.9375 259.75,137.0781 Q259.1094,137.2344 258.4063,137.2344 Q255.9063,137.2344 254.5781,135.5938 Q253.2656,133.9375 253.2656,130.8125 Q253.2656,127.6875 254.5781,126.0313 Q255.9063,124.375 258.4063,124.375 Q259.1094,124.375 259.75,124.5313 Q260.4063,124.6875 260.9688,124.9844 L260.9688,127.7031 Q260.3438,127.125 259.75,126.8594 Q259.1563,126.5781 258.5313,126.5781 Q257.1875,126.5781 256.5,127.6563 Q255.8125,128.7188 255.8125,130.8125 Q255.8125,132.9063 256.5,133.9844 Q257.1875,135.0469 258.5313,135.0469 Q259.1563,135.0469 259.75,134.7813 Q260.3438,134.5 260.9688,133.9219 L260.9688,136.6406 Z \"/><text fill=\"#000000\" font-family=\"sans-serif\" font-size=\"12\" lengthAdjust=\"spacingAndGlyphs\" textLength=\"72\" x=\"272\" y=\"135.1543\">Whiteboard</text><line style=\"stroke: #A80036; stroke-width: 1.5;\" x1=\"244\" x2=\"346\" y1=\"147\" y2=\"147\"/><line style=\"stroke: #A80036; stroke-width: 1.5;\" x1=\"244\" x2=\"346\" y1=\"155\" y2=\"155\"/><!--MD5=[e1133dd8a130f8e544af0ad54aa4a9a2]\n",
       "class XXX--><rect fill=\"#FEFECE\" filter=\"url(#fcaplhuiqq3bi)\" height=\"48\" id=\"XXX\" style=\"stroke: #A80036; stroke-width: 1.5;\" width=\"53\" x=\"382.5\" y=\"115\"/><ellipse cx=\"397.5\" cy=\"131\" fill=\"#ADD1B2\" rx=\"11\" ry=\"11\" style=\"stroke: #A80036; stroke-width: 1.0;\"/><path d=\"M400.4688,136.6406 Q399.8906,136.9375 399.25,137.0781 Q398.6094,137.2344 397.9063,137.2344 Q395.4063,137.2344 394.0781,135.5938 Q392.7656,133.9375 392.7656,130.8125 Q392.7656,127.6875 394.0781,126.0313 Q395.4063,124.375 397.9063,124.375 Q398.6094,124.375 399.25,124.5313 Q399.9063,124.6875 400.4688,124.9844 L400.4688,127.7031 Q399.8438,127.125 399.25,126.8594 Q398.6563,126.5781 398.0313,126.5781 Q396.6875,126.5781 396,127.6563 Q395.3125,128.7188 395.3125,130.8125 Q395.3125,132.9063 396,133.9844 Q396.6875,135.0469 398.0313,135.0469 Q398.6563,135.0469 399.25,134.7813 Q399.8438,134.5 400.4688,133.9219 L400.4688,136.6406 Z \"/><text fill=\"#000000\" font-family=\"sans-serif\" font-size=\"12\" lengthAdjust=\"spacingAndGlyphs\" textLength=\"21\" x=\"411.5\" y=\"135.1543\">XXX</text><line style=\"stroke: #A80036; stroke-width: 1.5;\" x1=\"383.5\" x2=\"434.5\" y1=\"147\" y2=\"147\"/><line style=\"stroke: #A80036; stroke-width: 1.5;\" x1=\"383.5\" x2=\"434.5\" y1=\"155\" y2=\"155\"/><!--MD5=[d20d8e8d5383227d6c455ad4b7ce0dc8]\n",
       "reverse link Room to Student--><path d=\"M272.7361,31 C280.0808,31 287.4255,31 294.7701,31 \" fill=\"none\" id=\"Room&lt;-Student\" style=\"stroke: #A80036; stroke-width: 1.0;\"/><polygon fill=\"#FFFFFF\" points=\"259.5156,31,265.5156,35,271.5156,31,265.5156,27,259.5156,31\" style=\"stroke: #A80036; stroke-width: 1.0;\"/><!--MD5=[2a69598203971254e9e56d9715aeb6c9]\n",
       "reverse link Room to Chair--><path d=\"M180.6727,57.1783 C146.7694,76.7588 101.2403,103.0537 71.0509,120.4893 \" fill=\"none\" id=\"Room&lt;-Chair\" style=\"stroke: #A80036; stroke-width: 1.0;\"/><polygon fill=\"#A80036\" points=\"192.1357,50.558,184.9395,50.095,181.7443,56.5595,188.9405,57.0226,192.1357,50.558\" style=\"stroke: #A80036; stroke-width: 1.0;\"/><!--MD5=[382ba3f1b3dd28bdff56256420730451]\n",
       "reverse link Room to Blackboard--><path d=\"M203.4583,66.2827 C193.3019,82.1796 181.5677,100.5461 172.4333,114.8436 \" fill=\"none\" id=\"Room&lt;-Blackboard\" style=\"stroke: #A80036; stroke-width: 1.0;\"/><polygon fill=\"#A80036\" points=\"210.5151,55.2373,203.914,58.1399,204.0544,65.3496,210.6555,62.447,210.5151,55.2373\" style=\"stroke: #A80036; stroke-width: 1.0;\"/><!--MD5=[43007b5c593246c394d425357dbc865b]\n",
       "reverse link Room to Whiteboard--><path d=\"M248.5417,66.2827 C258.6981,82.1796 270.4323,100.5461 279.5667,114.8436 \" fill=\"none\" id=\"Room&lt;-Whiteboard\" style=\"stroke: #A80036; stroke-width: 1.0;\"/><polygon fill=\"#A80036\" points=\"241.4849,55.2373,241.3445,62.447,247.9456,65.3496,248.086,58.1399,241.4849,55.2373\" style=\"stroke: #A80036; stroke-width: 1.0;\"/><!--MD5=[6f0b8ac05277203045da82d1abe1de8a]\n",
       "reverse link Room to XXX--><path d=\"M270.9123,57.5056 C305.9042,78.1566 353.2937,106.1242 382.4727,123.3446 \" fill=\"none\" id=\"Room&lt;-XXX\" style=\"stroke: #A80036; stroke-width: 1.0;\"/><polygon fill=\"#A80036\" points=\"259.565,50.8089,262.6992,57.3032,269.8995,56.9079,266.7653,50.4136,259.565,50.8089\" style=\"stroke: #A80036; stroke-width: 1.0;\"/><!--MD5=[8fdfde9d2cbbf7983c41a992d81b2ac9]\n",
       "@startuml\r\n",
       "Room o- Student\r\n",
       "Room *- - Chair\r\n",
       "Room *- - Blackboard\r\n",
       "Room *- - Whiteboard\r\n",
       "Room *- - XXX\r\n",
       "@enduml\r\n",
       "\n",
       "PlantUML version 1.2020.15(Sun Jun 28 11:39:45 GMT 2020)\n",
       "(GPL source distribution)\n",
       "Java Runtime: OpenJDK Runtime Environment\n",
       "JVM: OpenJDK 64-Bit Server VM\n",
       "Default Encoding: UTF-8\n",
       "Language: en\n",
       "Country: US\n",
       "--></g></svg>"
      ],
      "text/plain": [
       "<?xml version=\"1.0\" encoding=\"UTF-8\" standalone=\"no\"?><svg xmlns=\"http://www.w3.org/2000/svg\" xmlns:xlink=\"http://www.w3.org/1999/xlink\" contentScriptType=\"application/ecmascript\" contentStyleType=\"text/css\" height=\"182px\" preserveAspectRatio=\"none\" style=\"width:454px;height:182px;\" version=\"1.1\" viewBox=\"0 0 454 182\" width=\"454px\" zoomAndPan=\"magnify\"><defs><filter height=\"300%\" id=\"fcaplhuiqq3bi\" width=\"300%\" x=\"-1\" y=\"-1\"><feGaussianBlur result=\"blurOut\" stdDeviation=\"2.0\"/><feColorMatrix in=\"blurOut\" result=\"blurOut2\" type=\"matrix\" values=\"0 0 0 0 0 0 0 0 0 0 0 0 0 0 0 0 0 0 .4 0\"/><feOffset dx=\"4.0\" dy=\"4.0\" in=\"blurOut2\" result=\"blurOut3\"/><feBlend in=\"SourceGraphic\" in2=\"blurOut3\" mode=\"normal\"/></filter></defs><g><!--MD5=[d218c48b946d362ff1ecd879cabebcad]\n",
       "class Room--><rect fill=\"#FEFECE\" filter=\"url(#fcaplhuiqq3bi)\" height=\"48\" id=\"Room\" style=\"stroke: #A80036; stroke-width: 1.5;\" width=\"67\" x=\"192.5\" y=\"7\"/><ellipse cx=\"207.5\" cy=\"23\" fill=\"#ADD1B2\" rx=\"11\" ry=\"11\" style=\"stroke: #A80036; stroke-width: 1.0;\"/><path d=\"M210.4688,28.6406 Q209.8906,28.9375 209.25,29.0781 Q208.6094,29.2344 207.9063,29.2344 Q205.4063,29.2344 204.0781,27.5938 Q202.7656,25.9375 202.7656,22.8125 Q202.7656,19.6875 204.0781,18.0313 Q205.4063,16.375 207.9063,16.375 Q208.6094,16.375 209.25,16.5313 Q209.9063,16.6875 210.4688,16.9844 L210.4688,19.7031 Q209.8438,19.125 209.25,18.8594 Q208.6563,18.5781 208.0313,18.5781 Q206.6875,18.5781 206,19.6563 Q205.3125,20.7188 205.3125,22.8125 Q205.3125,24.9063 206,25.9844 Q206.6875,27.0469 208.0313,27.0469 Q208.6563,27.0469 209.25,26.7813 Q209.8438,26.5 210.4688,25.9219 L210.4688,28.6406 Z \"/><text fill=\"#000000\" font-family=\"sans-serif\" font-size=\"12\" lengthAdjust=\"spacingAndGlyphs\" textLength=\"35\" x=\"221.5\" y=\"27.1543\">Room</text><line style=\"stroke: #A80036; stroke-width: 1.5;\" x1=\"193.5\" x2=\"258.5\" y1=\"39\" y2=\"39\"/><line style=\"stroke: #A80036; stroke-width: 1.5;\" x1=\"193.5\" x2=\"258.5\" y1=\"47\" y2=\"47\"/><!--MD5=[d6181cb537bdc20c0a3007a98a56832d]\n",
       "class Student--><rect fill=\"#FEFECE\" filter=\"url(#fcaplhuiqq3bi)\" height=\"48\" id=\"Student\" style=\"stroke: #A80036; stroke-width: 1.5;\" width=\"82\" x=\"295\" y=\"7\"/><ellipse cx=\"310\" cy=\"23\" fill=\"#ADD1B2\" rx=\"11\" ry=\"11\" style=\"stroke: #A80036; stroke-width: 1.0;\"/><path d=\"M312.9688,28.6406 Q312.3906,28.9375 311.75,29.0781 Q311.1094,29.2344 310.4063,29.2344 Q307.9063,29.2344 306.5781,27.5938 Q305.2656,25.9375 305.2656,22.8125 Q305.2656,19.6875 306.5781,18.0313 Q307.9063,16.375 310.4063,16.375 Q311.1094,16.375 311.75,16.5313 Q312.4063,16.6875 312.9688,16.9844 L312.9688,19.7031 Q312.3438,19.125 311.75,18.8594 Q311.1563,18.5781 310.5313,18.5781 Q309.1875,18.5781 308.5,19.6563 Q307.8125,20.7188 307.8125,22.8125 Q307.8125,24.9063 308.5,25.9844 Q309.1875,27.0469 310.5313,27.0469 Q311.1563,27.0469 311.75,26.7813 Q312.3438,26.5 312.9688,25.9219 L312.9688,28.6406 Z \"/><text fill=\"#000000\" font-family=\"sans-serif\" font-size=\"12\" lengthAdjust=\"spacingAndGlyphs\" textLength=\"50\" x=\"324\" y=\"27.1543\">Student</text><line style=\"stroke: #A80036; stroke-width: 1.5;\" x1=\"296\" x2=\"376\" y1=\"39\" y2=\"39\"/><line style=\"stroke: #A80036; stroke-width: 1.5;\" x1=\"296\" x2=\"376\" y1=\"47\" y2=\"47\"/><!--MD5=[d29c9a6f599273240dc5c7dc802fb3eb]\n",
       "class Chair--><rect fill=\"#FEFECE\" filter=\"url(#fcaplhuiqq3bi)\" height=\"48\" id=\"Chair\" style=\"stroke: #A80036; stroke-width: 1.5;\" width=\"64\" x=\"7\" y=\"115\"/><ellipse cx=\"22\" cy=\"131\" fill=\"#ADD1B2\" rx=\"11\" ry=\"11\" style=\"stroke: #A80036; stroke-width: 1.0;\"/><path d=\"M24.9688,136.6406 Q24.3906,136.9375 23.75,137.0781 Q23.1094,137.2344 22.4063,137.2344 Q19.9063,137.2344 18.5781,135.5938 Q17.2656,133.9375 17.2656,130.8125 Q17.2656,127.6875 18.5781,126.0313 Q19.9063,124.375 22.4063,124.375 Q23.1094,124.375 23.75,124.5313 Q24.4063,124.6875 24.9688,124.9844 L24.9688,127.7031 Q24.3438,127.125 23.75,126.8594 Q23.1563,126.5781 22.5313,126.5781 Q21.1875,126.5781 20.5,127.6563 Q19.8125,128.7188 19.8125,130.8125 Q19.8125,132.9063 20.5,133.9844 Q21.1875,135.0469 22.5313,135.0469 Q23.1563,135.0469 23.75,134.7813 Q24.3438,134.5 24.9688,133.9219 L24.9688,136.6406 Z \"/><text fill=\"#000000\" font-family=\"sans-serif\" font-size=\"12\" lengthAdjust=\"spacingAndGlyphs\" textLength=\"32\" x=\"36\" y=\"135.1543\">Chair</text><line style=\"stroke: #A80036; stroke-width: 1.5;\" x1=\"8\" x2=\"70\" y1=\"147\" y2=\"147\"/><line style=\"stroke: #A80036; stroke-width: 1.5;\" x1=\"8\" x2=\"70\" y1=\"155\" y2=\"155\"/><!--MD5=[485e504ead8655105acf294cbc41580a]\n",
       "class Blackboard--><rect fill=\"#FEFECE\" filter=\"url(#fcaplhuiqq3bi)\" height=\"48\" id=\"Blackboard\" style=\"stroke: #A80036; stroke-width: 1.5;\" width=\"102\" x=\"106\" y=\"115\"/><ellipse cx=\"121\" cy=\"131\" fill=\"#ADD1B2\" rx=\"11\" ry=\"11\" style=\"stroke: #A80036; stroke-width: 1.0;\"/><path d=\"M123.9688,136.6406 Q123.3906,136.9375 122.75,137.0781 Q122.1094,137.2344 121.4063,137.2344 Q118.9063,137.2344 117.5781,135.5938 Q116.2656,133.9375 116.2656,130.8125 Q116.2656,127.6875 117.5781,126.0313 Q118.9063,124.375 121.4063,124.375 Q122.1094,124.375 122.75,124.5313 Q123.4063,124.6875 123.9688,124.9844 L123.9688,127.7031 Q123.3438,127.125 122.75,126.8594 Q122.1563,126.5781 121.5313,126.5781 Q120.1875,126.5781 119.5,127.6563 Q118.8125,128.7188 118.8125,130.8125 Q118.8125,132.9063 119.5,133.9844 Q120.1875,135.0469 121.5313,135.0469 Q122.1563,135.0469 122.75,134.7813 Q123.3438,134.5 123.9688,133.9219 L123.9688,136.6406 Z \"/><text fill=\"#000000\" font-family=\"sans-serif\" font-size=\"12\" lengthAdjust=\"spacingAndGlyphs\" textLength=\"70\" x=\"135\" y=\"135.1543\">Blackboard</text><line style=\"stroke: #A80036; stroke-width: 1.5;\" x1=\"107\" x2=\"207\" y1=\"147\" y2=\"147\"/><line style=\"stroke: #A80036; stroke-width: 1.5;\" x1=\"107\" x2=\"207\" y1=\"155\" y2=\"155\"/><!--MD5=[9a0414834f4d1aaf9f2245d9d37f3aa0]\n",
       "class Whiteboard--><rect fill=\"#FEFECE\" filter=\"url(#fcaplhuiqq3bi)\" height=\"48\" id=\"Whiteboard\" style=\"stroke: #A80036; stroke-width: 1.5;\" width=\"104\" x=\"243\" y=\"115\"/><ellipse cx=\"258\" cy=\"131\" fill=\"#ADD1B2\" rx=\"11\" ry=\"11\" style=\"stroke: #A80036; stroke-width: 1.0;\"/><path d=\"M260.9688,136.6406 Q260.3906,136.9375 259.75,137.0781 Q259.1094,137.2344 258.4063,137.2344 Q255.9063,137.2344 254.5781,135.5938 Q253.2656,133.9375 253.2656,130.8125 Q253.2656,127.6875 254.5781,126.0313 Q255.9063,124.375 258.4063,124.375 Q259.1094,124.375 259.75,124.5313 Q260.4063,124.6875 260.9688,124.9844 L260.9688,127.7031 Q260.3438,127.125 259.75,126.8594 Q259.1563,126.5781 258.5313,126.5781 Q257.1875,126.5781 256.5,127.6563 Q255.8125,128.7188 255.8125,130.8125 Q255.8125,132.9063 256.5,133.9844 Q257.1875,135.0469 258.5313,135.0469 Q259.1563,135.0469 259.75,134.7813 Q260.3438,134.5 260.9688,133.9219 L260.9688,136.6406 Z \"/><text fill=\"#000000\" font-family=\"sans-serif\" font-size=\"12\" lengthAdjust=\"spacingAndGlyphs\" textLength=\"72\" x=\"272\" y=\"135.1543\">Whiteboard</text><line style=\"stroke: #A80036; stroke-width: 1.5;\" x1=\"244\" x2=\"346\" y1=\"147\" y2=\"147\"/><line style=\"stroke: #A80036; stroke-width: 1.5;\" x1=\"244\" x2=\"346\" y1=\"155\" y2=\"155\"/><!--MD5=[e1133dd8a130f8e544af0ad54aa4a9a2]\n",
       "class XXX--><rect fill=\"#FEFECE\" filter=\"url(#fcaplhuiqq3bi)\" height=\"48\" id=\"XXX\" style=\"stroke: #A80036; stroke-width: 1.5;\" width=\"53\" x=\"382.5\" y=\"115\"/><ellipse cx=\"397.5\" cy=\"131\" fill=\"#ADD1B2\" rx=\"11\" ry=\"11\" style=\"stroke: #A80036; stroke-width: 1.0;\"/><path d=\"M400.4688,136.6406 Q399.8906,136.9375 399.25,137.0781 Q398.6094,137.2344 397.9063,137.2344 Q395.4063,137.2344 394.0781,135.5938 Q392.7656,133.9375 392.7656,130.8125 Q392.7656,127.6875 394.0781,126.0313 Q395.4063,124.375 397.9063,124.375 Q398.6094,124.375 399.25,124.5313 Q399.9063,124.6875 400.4688,124.9844 L400.4688,127.7031 Q399.8438,127.125 399.25,126.8594 Q398.6563,126.5781 398.0313,126.5781 Q396.6875,126.5781 396,127.6563 Q395.3125,128.7188 395.3125,130.8125 Q395.3125,132.9063 396,133.9844 Q396.6875,135.0469 398.0313,135.0469 Q398.6563,135.0469 399.25,134.7813 Q399.8438,134.5 400.4688,133.9219 L400.4688,136.6406 Z \"/><text fill=\"#000000\" font-family=\"sans-serif\" font-size=\"12\" lengthAdjust=\"spacingAndGlyphs\" textLength=\"21\" x=\"411.5\" y=\"135.1543\">XXX</text><line style=\"stroke: #A80036; stroke-width: 1.5;\" x1=\"383.5\" x2=\"434.5\" y1=\"147\" y2=\"147\"/><line style=\"stroke: #A80036; stroke-width: 1.5;\" x1=\"383.5\" x2=\"434.5\" y1=\"155\" y2=\"155\"/><!--MD5=[d20d8e8d5383227d6c455ad4b7ce0dc8]\n",
       "reverse link Room to Student--><path d=\"M272.7361,31 C280.0808,31 287.4255,31 294.7701,31 \" fill=\"none\" id=\"Room&lt;-Student\" style=\"stroke: #A80036; stroke-width: 1.0;\"/><polygon fill=\"#FFFFFF\" points=\"259.5156,31,265.5156,35,271.5156,31,265.5156,27,259.5156,31\" style=\"stroke: #A80036; stroke-width: 1.0;\"/><!--MD5=[2a69598203971254e9e56d9715aeb6c9]\n",
       "reverse link Room to Chair--><path d=\"M180.6727,57.1783 C146.7694,76.7588 101.2403,103.0537 71.0509,120.4893 \" fill=\"none\" id=\"Room&lt;-Chair\" style=\"stroke: #A80036; stroke-width: 1.0;\"/><polygon fill=\"#A80036\" points=\"192.1357,50.558,184.9395,50.095,181.7443,56.5595,188.9405,57.0226,192.1357,50.558\" style=\"stroke: #A80036; stroke-width: 1.0;\"/><!--MD5=[382ba3f1b3dd28bdff56256420730451]\n",
       "reverse link Room to Blackboard--><path d=\"M203.4583,66.2827 C193.3019,82.1796 181.5677,100.5461 172.4333,114.8436 \" fill=\"none\" id=\"Room&lt;-Blackboard\" style=\"stroke: #A80036; stroke-width: 1.0;\"/><polygon fill=\"#A80036\" points=\"210.5151,55.2373,203.914,58.1399,204.0544,65.3496,210.6555,62.447,210.5151,55.2373\" style=\"stroke: #A80036; stroke-width: 1.0;\"/><!--MD5=[43007b5c593246c394d425357dbc865b]\n",
       "reverse link Room to Whiteboard--><path d=\"M248.5417,66.2827 C258.6981,82.1796 270.4323,100.5461 279.5667,114.8436 \" fill=\"none\" id=\"Room&lt;-Whiteboard\" style=\"stroke: #A80036; stroke-width: 1.0;\"/><polygon fill=\"#A80036\" points=\"241.4849,55.2373,241.3445,62.447,247.9456,65.3496,248.086,58.1399,241.4849,55.2373\" style=\"stroke: #A80036; stroke-width: 1.0;\"/><!--MD5=[6f0b8ac05277203045da82d1abe1de8a]\n",
       "reverse link Room to XXX--><path d=\"M270.9123,57.5056 C305.9042,78.1566 353.2937,106.1242 382.4727,123.3446 \" fill=\"none\" id=\"Room&lt;-XXX\" style=\"stroke: #A80036; stroke-width: 1.0;\"/><polygon fill=\"#A80036\" points=\"259.565,50.8089,262.6992,57.3032,269.8995,56.9079,266.7653,50.4136,259.565,50.8089\" style=\"stroke: #A80036; stroke-width: 1.0;\"/><!--MD5=[8fdfde9d2cbbf7983c41a992d81b2ac9]\n",
       "@startuml\r\n",
       "Room o- Student\r\n",
       "Room *- - Chair\r\n",
       "Room *- - Blackboard\r\n",
       "Room *- - Whiteboard\r\n",
       "Room *- - XXX\r\n",
       "@enduml\r\n",
       "\n",
       "PlantUML version 1.2020.15(Sun Jun 28 11:39:45 GMT 2020)\n",
       "(GPL source distribution)\n",
       "Java Runtime: OpenJDK Runtime Environment\n",
       "JVM: OpenJDK 64-Bit Server VM\n",
       "Default Encoding: UTF-8\n",
       "Language: en\n",
       "Country: US\n",
       "--></g></svg>"
      ]
     },
     "metadata": {},
     "output_type": "display_data"
    },
    {
     "data": {
      "image/svg+xml": [
       "<?xml version=\"1.0\" encoding=\"UTF-8\" standalone=\"no\"?><svg xmlns=\"http://www.w3.org/2000/svg\" xmlns:xlink=\"http://www.w3.org/1999/xlink\" contentScriptType=\"application/ecmascript\" contentStyleType=\"text/css\" height=\"251px\" preserveAspectRatio=\"none\" style=\"width:337px;height:251px;\" version=\"1.1\" viewBox=\"0 0 337 251\" width=\"337px\" zoomAndPan=\"magnify\"><defs><filter height=\"300%\" id=\"f17ywiozhuz786\" width=\"300%\" x=\"-1\" y=\"-1\"><feGaussianBlur result=\"blurOut\" stdDeviation=\"2.0\"/><feColorMatrix in=\"blurOut\" result=\"blurOut2\" type=\"matrix\" values=\"0 0 0 0 0 0 0 0 0 0 0 0 0 0 0 0 0 0 .4 0\"/><feOffset dx=\"4.0\" dy=\"4.0\" in=\"blurOut2\" result=\"blurOut3\"/><feBlend in=\"SourceGraphic\" in2=\"blurOut3\" mode=\"normal\"/></filter></defs><g><!--MD5=[111002b242a260edbcaabc3e471064d0]\n",
       "cluster checkout--><rect fill=\"#FFFFFF\" filter=\"url(#f17ywiozhuz786)\" height=\"227\" style=\"stroke: #000000; stroke-width: 1.5;\" width=\"114\" x=\"125\" y=\"7\"/><text fill=\"#000000\" font-family=\"sans-serif\" font-size=\"14\" font-weight=\"bold\" lengthAdjust=\"spacingAndGlyphs\" textLength=\"73\" x=\"145.5\" y=\"21.9951\">checkout</text><ellipse cx=\"181.9619\" cy=\"130.0236\" fill=\"#FEFECE\" filter=\"url(#f17ywiozhuz786)\" rx=\"48.9619\" ry=\"14.5236\" style=\"stroke: #A80036; stroke-width: 1.5;\"/><text fill=\"#000000\" font-family=\"sans-serif\" font-size=\"14\" lengthAdjust=\"spacingAndGlyphs\" textLength=\"65\" x=\"149.4619\" y=\"134.6721\">checkout</text><ellipse cx=\"181.9264\" cy=\"49.0236\" fill=\"#FEFECE\" filter=\"url(#f17ywiozhuz786)\" rx=\"45.4264\" ry=\"14.5236\" style=\"stroke: #A80036; stroke-width: 1.5;\"/><text fill=\"#000000\" font-family=\"sans-serif\" font-size=\"14\" lengthAdjust=\"spacingAndGlyphs\" textLength=\"60\" x=\"151.9264\" y=\"53.6721\">payment</text><ellipse cx=\"182.2132\" cy=\"211.0236\" fill=\"#FEFECE\" filter=\"url(#f17ywiozhuz786)\" rx=\"24.2132\" ry=\"14.5236\" style=\"stroke: #A80036; stroke-width: 1.5;\"/><text fill=\"#000000\" font-family=\"sans-serif\" font-size=\"14\" lengthAdjust=\"spacingAndGlyphs\" textLength=\"30\" x=\"167.2132\" y=\"215.6721\">help</text><!--MD5=[92848cbaf65985a669855153c5362c37]\n",
       "entity customer--><ellipse cx=\"39\" cy=\"99\" fill=\"#FEFECE\" filter=\"url(#f17ywiozhuz786)\" rx=\"8\" ry=\"8\" style=\"stroke: #A80036; stroke-width: 1.5;\"/><path d=\"M39,107 L39,134 M26,115 L52,115 M39,134 L26,149 M39,134 L52,149 \" fill=\"none\" filter=\"url(#f17ywiozhuz786)\" style=\"stroke: #A80036; stroke-width: 1.5;\"/><text fill=\"#000000\" font-family=\"sans-serif\" font-size=\"14\" lengthAdjust=\"spacingAndGlyphs\" textLength=\"66\" x=\"6\" y=\"167.4951\">customer</text><!--MD5=[ebeabf449828f4e0b33bbb47961e644b]\n",
       "entity clerk--><ellipse cx=\"308.5\" cy=\"99\" fill=\"#FEFECE\" filter=\"url(#f17ywiozhuz786)\" rx=\"8\" ry=\"8\" style=\"stroke: #A80036; stroke-width: 1.5;\"/><path d=\"M308.5,107 L308.5,134 M295.5,115 L321.5,115 M308.5,134 L295.5,149 M308.5,134 L321.5,149 \" fill=\"none\" filter=\"url(#f17ywiozhuz786)\" style=\"stroke: #A80036; stroke-width: 1.5;\"/><text fill=\"#000000\" font-family=\"sans-serif\" font-size=\"14\" lengthAdjust=\"spacingAndGlyphs\" textLength=\"33\" x=\"292\" y=\"167.4951\">clerk</text><!--MD5=[852381a7bb976b86080137fb6d718ea9]\n",
       "link customer to checkout--><path d=\"M72.1665,130 C90.1531,130 112.7346,130 132.7375,130 \" fill=\"none\" id=\"customer-checkout\" style=\"stroke: #A80036; stroke-width: 1.0;\"/><!--MD5=[3ad5c6d5c608bfd6b87dc9c07c40a15f]\n",
       "link checkout to payment--><path d=\"M182,115.1434 C182,102.1269 182,83.1069 182,68.8003 \" fill=\"none\" id=\"checkout-&gt;payment\" style=\"stroke: #A80036; stroke-width: 1.0; stroke-dasharray: 7.0,7.0;\"/><polygon fill=\"#A80036\" points=\"182,63.7625,178,72.7625,182,68.7625,186,72.7625,182,63.7625\" style=\"stroke: #A80036; stroke-width: 1.0;\"/><text fill=\"#000000\" font-family=\"sans-serif\" font-size=\"13\" lengthAdjust=\"spacingAndGlyphs\" textLength=\"45\" x=\"148\" y=\"94.0669\">include</text><!--MD5=[739e7928149c8fe27c2b5850560351c7]\n",
       "link help to checkout--><path d=\"M182,196.1434 C182,183.1269 182,164.1069 182,149.8003 \" fill=\"none\" id=\"help-&gt;checkout\" style=\"stroke: #A80036; stroke-width: 1.0; stroke-dasharray: 7.0,7.0;\"/><polygon fill=\"#A80036\" points=\"182,144.7625,178,153.7625,182,149.7625,186,153.7625,182,144.7625\" style=\"stroke: #A80036; stroke-width: 1.0;\"/><text fill=\"#000000\" font-family=\"sans-serif\" font-size=\"13\" lengthAdjust=\"spacingAndGlyphs\" textLength=\"51\" x=\"145\" y=\"175.0669\">extends</text><!--MD5=[b4c4ee8f2d94c159d2b9e04bd372cbe0]\n",
       "link checkout to clerk--><path d=\"M231.2704,130 C252.7761,130 276.5515,130 291.9644,130 \" fill=\"none\" id=\"checkout-clerk\" style=\"stroke: #A80036; stroke-width: 1.0;\"/><!--MD5=[6f071b0d907c294f003c0db140e4f2f3]\n",
       "@startuml\r\n",
       "left to right direction\r\n",
       "skinparam packageStyle rectangle\r\n",
       "actor customer\r\n",
       "actor clerk\r\n",
       "rectangle checkout {\r\n",
       "  customer - - (checkout)\r\n",
       "  (checkout) .> (payment) : include\r\n",
       "  (help) .> (checkout) : extends\r\n",
       "  (checkout) - - clerk\r\n",
       "}\r\n",
       "@enduml\r\n",
       "\n",
       "PlantUML version 1.2020.15(Sun Jun 28 11:39:45 GMT 2020)\n",
       "(GPL source distribution)\n",
       "Java Runtime: OpenJDK Runtime Environment\n",
       "JVM: OpenJDK 64-Bit Server VM\n",
       "Default Encoding: UTF-8\n",
       "Language: en\n",
       "Country: US\n",
       "--></g></svg>"
      ],
      "text/plain": [
       "<?xml version=\"1.0\" encoding=\"UTF-8\" standalone=\"no\"?><svg xmlns=\"http://www.w3.org/2000/svg\" xmlns:xlink=\"http://www.w3.org/1999/xlink\" contentScriptType=\"application/ecmascript\" contentStyleType=\"text/css\" height=\"251px\" preserveAspectRatio=\"none\" style=\"width:337px;height:251px;\" version=\"1.1\" viewBox=\"0 0 337 251\" width=\"337px\" zoomAndPan=\"magnify\"><defs><filter height=\"300%\" id=\"f17ywiozhuz786\" width=\"300%\" x=\"-1\" y=\"-1\"><feGaussianBlur result=\"blurOut\" stdDeviation=\"2.0\"/><feColorMatrix in=\"blurOut\" result=\"blurOut2\" type=\"matrix\" values=\"0 0 0 0 0 0 0 0 0 0 0 0 0 0 0 0 0 0 .4 0\"/><feOffset dx=\"4.0\" dy=\"4.0\" in=\"blurOut2\" result=\"blurOut3\"/><feBlend in=\"SourceGraphic\" in2=\"blurOut3\" mode=\"normal\"/></filter></defs><g><!--MD5=[111002b242a260edbcaabc3e471064d0]\n",
       "cluster checkout--><rect fill=\"#FFFFFF\" filter=\"url(#f17ywiozhuz786)\" height=\"227\" style=\"stroke: #000000; stroke-width: 1.5;\" width=\"114\" x=\"125\" y=\"7\"/><text fill=\"#000000\" font-family=\"sans-serif\" font-size=\"14\" font-weight=\"bold\" lengthAdjust=\"spacingAndGlyphs\" textLength=\"73\" x=\"145.5\" y=\"21.9951\">checkout</text><ellipse cx=\"181.9619\" cy=\"130.0236\" fill=\"#FEFECE\" filter=\"url(#f17ywiozhuz786)\" rx=\"48.9619\" ry=\"14.5236\" style=\"stroke: #A80036; stroke-width: 1.5;\"/><text fill=\"#000000\" font-family=\"sans-serif\" font-size=\"14\" lengthAdjust=\"spacingAndGlyphs\" textLength=\"65\" x=\"149.4619\" y=\"134.6721\">checkout</text><ellipse cx=\"181.9264\" cy=\"49.0236\" fill=\"#FEFECE\" filter=\"url(#f17ywiozhuz786)\" rx=\"45.4264\" ry=\"14.5236\" style=\"stroke: #A80036; stroke-width: 1.5;\"/><text fill=\"#000000\" font-family=\"sans-serif\" font-size=\"14\" lengthAdjust=\"spacingAndGlyphs\" textLength=\"60\" x=\"151.9264\" y=\"53.6721\">payment</text><ellipse cx=\"182.2132\" cy=\"211.0236\" fill=\"#FEFECE\" filter=\"url(#f17ywiozhuz786)\" rx=\"24.2132\" ry=\"14.5236\" style=\"stroke: #A80036; stroke-width: 1.5;\"/><text fill=\"#000000\" font-family=\"sans-serif\" font-size=\"14\" lengthAdjust=\"spacingAndGlyphs\" textLength=\"30\" x=\"167.2132\" y=\"215.6721\">help</text><!--MD5=[92848cbaf65985a669855153c5362c37]\n",
       "entity customer--><ellipse cx=\"39\" cy=\"99\" fill=\"#FEFECE\" filter=\"url(#f17ywiozhuz786)\" rx=\"8\" ry=\"8\" style=\"stroke: #A80036; stroke-width: 1.5;\"/><path d=\"M39,107 L39,134 M26,115 L52,115 M39,134 L26,149 M39,134 L52,149 \" fill=\"none\" filter=\"url(#f17ywiozhuz786)\" style=\"stroke: #A80036; stroke-width: 1.5;\"/><text fill=\"#000000\" font-family=\"sans-serif\" font-size=\"14\" lengthAdjust=\"spacingAndGlyphs\" textLength=\"66\" x=\"6\" y=\"167.4951\">customer</text><!--MD5=[ebeabf449828f4e0b33bbb47961e644b]\n",
       "entity clerk--><ellipse cx=\"308.5\" cy=\"99\" fill=\"#FEFECE\" filter=\"url(#f17ywiozhuz786)\" rx=\"8\" ry=\"8\" style=\"stroke: #A80036; stroke-width: 1.5;\"/><path d=\"M308.5,107 L308.5,134 M295.5,115 L321.5,115 M308.5,134 L295.5,149 M308.5,134 L321.5,149 \" fill=\"none\" filter=\"url(#f17ywiozhuz786)\" style=\"stroke: #A80036; stroke-width: 1.5;\"/><text fill=\"#000000\" font-family=\"sans-serif\" font-size=\"14\" lengthAdjust=\"spacingAndGlyphs\" textLength=\"33\" x=\"292\" y=\"167.4951\">clerk</text><!--MD5=[852381a7bb976b86080137fb6d718ea9]\n",
       "link customer to checkout--><path d=\"M72.1665,130 C90.1531,130 112.7346,130 132.7375,130 \" fill=\"none\" id=\"customer-checkout\" style=\"stroke: #A80036; stroke-width: 1.0;\"/><!--MD5=[3ad5c6d5c608bfd6b87dc9c07c40a15f]\n",
       "link checkout to payment--><path d=\"M182,115.1434 C182,102.1269 182,83.1069 182,68.8003 \" fill=\"none\" id=\"checkout-&gt;payment\" style=\"stroke: #A80036; stroke-width: 1.0; stroke-dasharray: 7.0,7.0;\"/><polygon fill=\"#A80036\" points=\"182,63.7625,178,72.7625,182,68.7625,186,72.7625,182,63.7625\" style=\"stroke: #A80036; stroke-width: 1.0;\"/><text fill=\"#000000\" font-family=\"sans-serif\" font-size=\"13\" lengthAdjust=\"spacingAndGlyphs\" textLength=\"45\" x=\"148\" y=\"94.0669\">include</text><!--MD5=[739e7928149c8fe27c2b5850560351c7]\n",
       "link help to checkout--><path d=\"M182,196.1434 C182,183.1269 182,164.1069 182,149.8003 \" fill=\"none\" id=\"help-&gt;checkout\" style=\"stroke: #A80036; stroke-width: 1.0; stroke-dasharray: 7.0,7.0;\"/><polygon fill=\"#A80036\" points=\"182,144.7625,178,153.7625,182,149.7625,186,153.7625,182,144.7625\" style=\"stroke: #A80036; stroke-width: 1.0;\"/><text fill=\"#000000\" font-family=\"sans-serif\" font-size=\"13\" lengthAdjust=\"spacingAndGlyphs\" textLength=\"51\" x=\"145\" y=\"175.0669\">extends</text><!--MD5=[b4c4ee8f2d94c159d2b9e04bd372cbe0]\n",
       "link checkout to clerk--><path d=\"M231.2704,130 C252.7761,130 276.5515,130 291.9644,130 \" fill=\"none\" id=\"checkout-clerk\" style=\"stroke: #A80036; stroke-width: 1.0;\"/><!--MD5=[6f071b0d907c294f003c0db140e4f2f3]\n",
       "@startuml\r\n",
       "left to right direction\r\n",
       "skinparam packageStyle rectangle\r\n",
       "actor customer\r\n",
       "actor clerk\r\n",
       "rectangle checkout {\r\n",
       "  customer - - (checkout)\r\n",
       "  (checkout) .> (payment) : include\r\n",
       "  (help) .> (checkout) : extends\r\n",
       "  (checkout) - - clerk\r\n",
       "}\r\n",
       "@enduml\r\n",
       "\n",
       "PlantUML version 1.2020.15(Sun Jun 28 11:39:45 GMT 2020)\n",
       "(GPL source distribution)\n",
       "Java Runtime: OpenJDK Runtime Environment\n",
       "JVM: OpenJDK 64-Bit Server VM\n",
       "Default Encoding: UTF-8\n",
       "Language: en\n",
       "Country: US\n",
       "--></g></svg>"
      ]
     },
     "metadata": {},
     "output_type": "display_data"
    }
   ],
   "source": [
    "%%plantUMLFile\n",
    "classDiagram.uml\n",
    "usecaseDiagram.uml"
   ]
  },
  {
   "cell_type": "code",
   "execution_count": 37,
   "metadata": {},
   "outputs": [
    {
     "data": {
      "image/svg+xml": [
       "<?xml version=\"1.0\" encoding=\"UTF-8\" standalone=\"no\"?><svg xmlns=\"http://www.w3.org/2000/svg\" xmlns:xlink=\"http://www.w3.org/1999/xlink\" contentScriptType=\"application/ecmascript\" contentStyleType=\"text/css\" height=\"281px\" preserveAspectRatio=\"none\" style=\"width:408px;height:281px;\" version=\"1.1\" viewBox=\"0 0 408 281\" width=\"408px\" zoomAndPan=\"magnify\"><defs><filter height=\"300%\" id=\"fvefg0fa00vae\" width=\"300%\" x=\"-1\" y=\"-1\"><feGaussianBlur result=\"blurOut\" stdDeviation=\"2.0\"/><feColorMatrix in=\"blurOut\" result=\"blurOut2\" type=\"matrix\" values=\"0 0 0 0 0 0 0 0 0 0 0 0 0 0 0 0 0 0 .4 0\"/><feOffset dx=\"4.0\" dy=\"4.0\" in=\"blurOut2\" result=\"blurOut3\"/><feBlend in=\"SourceGraphic\" in2=\"blurOut3\" mode=\"normal\"/></filter></defs><g><rect fill=\"#FFFFFF\" filter=\"url(#fvefg0fa00vae)\" height=\"145.6641\" style=\"stroke: #A80036; stroke-width: 1.0;\" width=\"10\" x=\"101\" y=\"69.4297\"/><rect fill=\"#FFFFFF\" filter=\"url(#fvefg0fa00vae)\" height=\"87.3984\" style=\"stroke: #A80036; stroke-width: 1.0;\" width=\"10\" x=\"275\" y=\"98.5625\"/><rect fill=\"#FFFFFF\" filter=\"url(#fvefg0fa00vae)\" height=\"29.1328\" style=\"stroke: #A80036; stroke-width: 1.0;\" width=\"10\" x=\"374\" y=\"127.6953\"/><line style=\"stroke: #A80036; stroke-width: 1.0; stroke-dasharray: 5.0,5.0;\" x1=\"33\" x2=\"33\" y1=\"38.2969\" y2=\"233.0938\"/><line style=\"stroke: #A80036; stroke-width: 1.0; stroke-dasharray: 5.0,5.0;\" x1=\"105.5\" x2=\"105.5\" y1=\"38.2969\" y2=\"233.0938\"/><line style=\"stroke: #A80036; stroke-width: 1.0; stroke-dasharray: 5.0,5.0;\" x1=\"280\" x2=\"280\" y1=\"38.2969\" y2=\"233.0938\"/><line style=\"stroke: #A80036; stroke-width: 1.0; stroke-dasharray: 5.0,5.0;\" x1=\"379\" x2=\"379\" y1=\"38.2969\" y2=\"233.0938\"/><rect fill=\"#FEFECE\" filter=\"url(#fvefg0fa00vae)\" height=\"30.2969\" style=\"stroke: #A80036; stroke-width: 1.5;\" width=\"46\" x=\"8\" y=\"3\"/><text fill=\"#000000\" font-family=\"sans-serif\" font-size=\"14\" lengthAdjust=\"spacingAndGlyphs\" textLength=\"32\" x=\"15\" y=\"22.9951\">User</text><rect fill=\"#FEFECE\" filter=\"url(#fvefg0fa00vae)\" height=\"30.2969\" style=\"stroke: #A80036; stroke-width: 1.5;\" width=\"46\" x=\"8\" y=\"232.0938\"/><text fill=\"#000000\" font-family=\"sans-serif\" font-size=\"14\" lengthAdjust=\"spacingAndGlyphs\" textLength=\"32\" x=\"15\" y=\"252.0889\">User</text><rect fill=\"#FEFECE\" filter=\"url(#fvefg0fa00vae)\" height=\"30.2969\" style=\"stroke: #A80036; stroke-width: 1.5;\" width=\"23\" x=\"92.5\" y=\"3\"/><text fill=\"#000000\" font-family=\"sans-serif\" font-size=\"14\" lengthAdjust=\"spacingAndGlyphs\" textLength=\"9\" x=\"99.5\" y=\"22.9951\">A</text><rect fill=\"#FEFECE\" filter=\"url(#fvefg0fa00vae)\" height=\"30.2969\" style=\"stroke: #A80036; stroke-width: 1.5;\" width=\"23\" x=\"92.5\" y=\"232.0938\"/><text fill=\"#000000\" font-family=\"sans-serif\" font-size=\"14\" lengthAdjust=\"spacingAndGlyphs\" textLength=\"9\" x=\"99.5\" y=\"252.0889\">A</text><rect fill=\"#FEFECE\" filter=\"url(#fvefg0fa00vae)\" height=\"30.2969\" style=\"stroke: #A80036; stroke-width: 1.5;\" width=\"24\" x=\"266\" y=\"3\"/><text fill=\"#000000\" font-family=\"sans-serif\" font-size=\"14\" lengthAdjust=\"spacingAndGlyphs\" textLength=\"10\" x=\"273\" y=\"22.9951\">B</text><rect fill=\"#FEFECE\" filter=\"url(#fvefg0fa00vae)\" height=\"30.2969\" style=\"stroke: #A80036; stroke-width: 1.5;\" width=\"24\" x=\"266\" y=\"232.0938\"/><text fill=\"#000000\" font-family=\"sans-serif\" font-size=\"14\" lengthAdjust=\"spacingAndGlyphs\" textLength=\"10\" x=\"273\" y=\"252.0889\">B</text><rect fill=\"#FEFECE\" filter=\"url(#fvefg0fa00vae)\" height=\"30.2969\" style=\"stroke: #A80036; stroke-width: 1.5;\" width=\"24\" x=\"365\" y=\"3\"/><text fill=\"#000000\" font-family=\"sans-serif\" font-size=\"14\" lengthAdjust=\"spacingAndGlyphs\" textLength=\"10\" x=\"372\" y=\"22.9951\">C</text><rect fill=\"#FEFECE\" filter=\"url(#fvefg0fa00vae)\" height=\"30.2969\" style=\"stroke: #A80036; stroke-width: 1.5;\" width=\"24\" x=\"365\" y=\"232.0938\"/><text fill=\"#000000\" font-family=\"sans-serif\" font-size=\"14\" lengthAdjust=\"spacingAndGlyphs\" textLength=\"10\" x=\"372\" y=\"252.0889\">C</text><rect fill=\"#FFFFFF\" filter=\"url(#fvefg0fa00vae)\" height=\"145.6641\" style=\"stroke: #A80036; stroke-width: 1.0;\" width=\"10\" x=\"101\" y=\"69.4297\"/><rect fill=\"#FFFFFF\" filter=\"url(#fvefg0fa00vae)\" height=\"87.3984\" style=\"stroke: #A80036; stroke-width: 1.0;\" width=\"10\" x=\"275\" y=\"98.5625\"/><rect fill=\"#FFFFFF\" filter=\"url(#fvefg0fa00vae)\" height=\"29.1328\" style=\"stroke: #A80036; stroke-width: 1.0;\" width=\"10\" x=\"374\" y=\"127.6953\"/><polygon fill=\"#A80036\" points=\"89,65.4297,99,69.4297,89,73.4297,93,69.4297\" style=\"stroke: #A80036; stroke-width: 1.0;\"/><line style=\"stroke: #A80036; stroke-width: 1.0;\" x1=\"33\" x2=\"95\" y1=\"69.4297\" y2=\"69.4297\"/><text fill=\"#000000\" font-family=\"sans-serif\" font-size=\"13\" lengthAdjust=\"spacingAndGlyphs\" textLength=\"49\" x=\"40\" y=\"64.3638\">DoWork</text><polygon fill=\"#A80036\" points=\"263,94.5625,273,98.5625,263,102.5625,267,98.5625\" style=\"stroke: #A80036; stroke-width: 1.0;\"/><line style=\"stroke: #A80036; stroke-width: 1.0;\" x1=\"111\" x2=\"269\" y1=\"98.5625\" y2=\"98.5625\"/><text fill=\"#000000\" font-family=\"sans-serif\" font-size=\"13\" lengthAdjust=\"spacingAndGlyphs\" textLength=\"145\" x=\"118\" y=\"93.4966\">&lt;&lt; createRequest &gt;&gt;</text><polygon fill=\"#A80036\" points=\"362,123.6953,372,127.6953,362,131.6953,366,127.6953\" style=\"stroke: #A80036; stroke-width: 1.0;\"/><line style=\"stroke: #A80036; stroke-width: 1.0;\" x1=\"285\" x2=\"368\" y1=\"127.6953\" y2=\"127.6953\"/><text fill=\"#000000\" font-family=\"sans-serif\" font-size=\"13\" lengthAdjust=\"spacingAndGlyphs\" textLength=\"49\" x=\"292\" y=\"122.6294\">DoWork</text><polygon fill=\"#A80036\" points=\"296,152.8281,286,156.8281,296,160.8281,292,156.8281\" style=\"stroke: #A80036; stroke-width: 1.0;\"/><line style=\"stroke: #A80036; stroke-width: 1.0; stroke-dasharray: 2.0,2.0;\" x1=\"290\" x2=\"378\" y1=\"156.8281\" y2=\"156.8281\"/><text fill=\"#000000\" font-family=\"sans-serif\" font-size=\"13\" lengthAdjust=\"spacingAndGlyphs\" textLength=\"65\" x=\"302\" y=\"151.7622\">WorkDone</text><line style=\"stroke: #A80036; stroke-width: 2.0;\" x1=\"370\" x2=\"388\" y1=\"147.8281\" y2=\"165.8281\"/><line style=\"stroke: #A80036; stroke-width: 2.0;\" x1=\"370\" x2=\"388\" y1=\"165.8281\" y2=\"147.8281\"/><polygon fill=\"#A80036\" points=\"122,181.9609,112,185.9609,122,189.9609,118,185.9609\" style=\"stroke: #A80036; stroke-width: 1.0;\"/><line style=\"stroke: #A80036; stroke-width: 1.0; stroke-dasharray: 2.0,2.0;\" x1=\"116\" x2=\"279\" y1=\"185.9609\" y2=\"185.9609\"/><text fill=\"#000000\" font-family=\"sans-serif\" font-size=\"13\" lengthAdjust=\"spacingAndGlyphs\" textLength=\"103\" x=\"128\" y=\"180.895\">RequestCreated</text><polygon fill=\"#A80036\" points=\"44,211.0938,34,215.0938,44,219.0938,40,215.0938\" style=\"stroke: #A80036; stroke-width: 1.0;\"/><line style=\"stroke: #A80036; stroke-width: 1.0;\" x1=\"38\" x2=\"105\" y1=\"215.0938\" y2=\"215.0938\"/><text fill=\"#000000\" font-family=\"sans-serif\" font-size=\"13\" lengthAdjust=\"spacingAndGlyphs\" textLength=\"34\" x=\"50\" y=\"210.0278\">Done</text><!--MD5=[9743127205aa4135068d96cca55a6235]\n",
       "@startuml\r\n",
       "participant User\r\n",
       "\r\n",
       "User -> A: DoWork\r\n",
       "activate A\r\n",
       "\r\n",
       "A -> B: << createRequest >>\r\n",
       "activate B\r\n",
       "\r\n",
       "B -> C: DoWork\r\n",
       "activate C\r\n",
       "C - -> B: WorkDone\r\n",
       "destroy C\r\n",
       "\r\n",
       "B - -> A: RequestCreated\r\n",
       "deactivate B\r\n",
       "\r\n",
       "\r\n",
       "A -> User: Done\r\n",
       "deactivate A\r\n",
       "\r\n",
       "@enduml\r\n",
       "\n",
       "PlantUML version 1.2020.15(Sun Jun 28 11:39:45 GMT 2020)\n",
       "(GPL source distribution)\n",
       "Java Runtime: OpenJDK Runtime Environment\n",
       "JVM: OpenJDK 64-Bit Server VM\n",
       "Default Encoding: UTF-8\n",
       "Language: en\n",
       "Country: US\n",
       "--></g></svg>"
      ],
      "text/plain": [
       "<?xml version=\"1.0\" encoding=\"UTF-8\" standalone=\"no\"?><svg xmlns=\"http://www.w3.org/2000/svg\" xmlns:xlink=\"http://www.w3.org/1999/xlink\" contentScriptType=\"application/ecmascript\" contentStyleType=\"text/css\" height=\"281px\" preserveAspectRatio=\"none\" style=\"width:408px;height:281px;\" version=\"1.1\" viewBox=\"0 0 408 281\" width=\"408px\" zoomAndPan=\"magnify\"><defs><filter height=\"300%\" id=\"fvefg0fa00vae\" width=\"300%\" x=\"-1\" y=\"-1\"><feGaussianBlur result=\"blurOut\" stdDeviation=\"2.0\"/><feColorMatrix in=\"blurOut\" result=\"blurOut2\" type=\"matrix\" values=\"0 0 0 0 0 0 0 0 0 0 0 0 0 0 0 0 0 0 .4 0\"/><feOffset dx=\"4.0\" dy=\"4.0\" in=\"blurOut2\" result=\"blurOut3\"/><feBlend in=\"SourceGraphic\" in2=\"blurOut3\" mode=\"normal\"/></filter></defs><g><rect fill=\"#FFFFFF\" filter=\"url(#fvefg0fa00vae)\" height=\"145.6641\" style=\"stroke: #A80036; stroke-width: 1.0;\" width=\"10\" x=\"101\" y=\"69.4297\"/><rect fill=\"#FFFFFF\" filter=\"url(#fvefg0fa00vae)\" height=\"87.3984\" style=\"stroke: #A80036; stroke-width: 1.0;\" width=\"10\" x=\"275\" y=\"98.5625\"/><rect fill=\"#FFFFFF\" filter=\"url(#fvefg0fa00vae)\" height=\"29.1328\" style=\"stroke: #A80036; stroke-width: 1.0;\" width=\"10\" x=\"374\" y=\"127.6953\"/><line style=\"stroke: #A80036; stroke-width: 1.0; stroke-dasharray: 5.0,5.0;\" x1=\"33\" x2=\"33\" y1=\"38.2969\" y2=\"233.0938\"/><line style=\"stroke: #A80036; stroke-width: 1.0; stroke-dasharray: 5.0,5.0;\" x1=\"105.5\" x2=\"105.5\" y1=\"38.2969\" y2=\"233.0938\"/><line style=\"stroke: #A80036; stroke-width: 1.0; stroke-dasharray: 5.0,5.0;\" x1=\"280\" x2=\"280\" y1=\"38.2969\" y2=\"233.0938\"/><line style=\"stroke: #A80036; stroke-width: 1.0; stroke-dasharray: 5.0,5.0;\" x1=\"379\" x2=\"379\" y1=\"38.2969\" y2=\"233.0938\"/><rect fill=\"#FEFECE\" filter=\"url(#fvefg0fa00vae)\" height=\"30.2969\" style=\"stroke: #A80036; stroke-width: 1.5;\" width=\"46\" x=\"8\" y=\"3\"/><text fill=\"#000000\" font-family=\"sans-serif\" font-size=\"14\" lengthAdjust=\"spacingAndGlyphs\" textLength=\"32\" x=\"15\" y=\"22.9951\">User</text><rect fill=\"#FEFECE\" filter=\"url(#fvefg0fa00vae)\" height=\"30.2969\" style=\"stroke: #A80036; stroke-width: 1.5;\" width=\"46\" x=\"8\" y=\"232.0938\"/><text fill=\"#000000\" font-family=\"sans-serif\" font-size=\"14\" lengthAdjust=\"spacingAndGlyphs\" textLength=\"32\" x=\"15\" y=\"252.0889\">User</text><rect fill=\"#FEFECE\" filter=\"url(#fvefg0fa00vae)\" height=\"30.2969\" style=\"stroke: #A80036; stroke-width: 1.5;\" width=\"23\" x=\"92.5\" y=\"3\"/><text fill=\"#000000\" font-family=\"sans-serif\" font-size=\"14\" lengthAdjust=\"spacingAndGlyphs\" textLength=\"9\" x=\"99.5\" y=\"22.9951\">A</text><rect fill=\"#FEFECE\" filter=\"url(#fvefg0fa00vae)\" height=\"30.2969\" style=\"stroke: #A80036; stroke-width: 1.5;\" width=\"23\" x=\"92.5\" y=\"232.0938\"/><text fill=\"#000000\" font-family=\"sans-serif\" font-size=\"14\" lengthAdjust=\"spacingAndGlyphs\" textLength=\"9\" x=\"99.5\" y=\"252.0889\">A</text><rect fill=\"#FEFECE\" filter=\"url(#fvefg0fa00vae)\" height=\"30.2969\" style=\"stroke: #A80036; stroke-width: 1.5;\" width=\"24\" x=\"266\" y=\"3\"/><text fill=\"#000000\" font-family=\"sans-serif\" font-size=\"14\" lengthAdjust=\"spacingAndGlyphs\" textLength=\"10\" x=\"273\" y=\"22.9951\">B</text><rect fill=\"#FEFECE\" filter=\"url(#fvefg0fa00vae)\" height=\"30.2969\" style=\"stroke: #A80036; stroke-width: 1.5;\" width=\"24\" x=\"266\" y=\"232.0938\"/><text fill=\"#000000\" font-family=\"sans-serif\" font-size=\"14\" lengthAdjust=\"spacingAndGlyphs\" textLength=\"10\" x=\"273\" y=\"252.0889\">B</text><rect fill=\"#FEFECE\" filter=\"url(#fvefg0fa00vae)\" height=\"30.2969\" style=\"stroke: #A80036; stroke-width: 1.5;\" width=\"24\" x=\"365\" y=\"3\"/><text fill=\"#000000\" font-family=\"sans-serif\" font-size=\"14\" lengthAdjust=\"spacingAndGlyphs\" textLength=\"10\" x=\"372\" y=\"22.9951\">C</text><rect fill=\"#FEFECE\" filter=\"url(#fvefg0fa00vae)\" height=\"30.2969\" style=\"stroke: #A80036; stroke-width: 1.5;\" width=\"24\" x=\"365\" y=\"232.0938\"/><text fill=\"#000000\" font-family=\"sans-serif\" font-size=\"14\" lengthAdjust=\"spacingAndGlyphs\" textLength=\"10\" x=\"372\" y=\"252.0889\">C</text><rect fill=\"#FFFFFF\" filter=\"url(#fvefg0fa00vae)\" height=\"145.6641\" style=\"stroke: #A80036; stroke-width: 1.0;\" width=\"10\" x=\"101\" y=\"69.4297\"/><rect fill=\"#FFFFFF\" filter=\"url(#fvefg0fa00vae)\" height=\"87.3984\" style=\"stroke: #A80036; stroke-width: 1.0;\" width=\"10\" x=\"275\" y=\"98.5625\"/><rect fill=\"#FFFFFF\" filter=\"url(#fvefg0fa00vae)\" height=\"29.1328\" style=\"stroke: #A80036; stroke-width: 1.0;\" width=\"10\" x=\"374\" y=\"127.6953\"/><polygon fill=\"#A80036\" points=\"89,65.4297,99,69.4297,89,73.4297,93,69.4297\" style=\"stroke: #A80036; stroke-width: 1.0;\"/><line style=\"stroke: #A80036; stroke-width: 1.0;\" x1=\"33\" x2=\"95\" y1=\"69.4297\" y2=\"69.4297\"/><text fill=\"#000000\" font-family=\"sans-serif\" font-size=\"13\" lengthAdjust=\"spacingAndGlyphs\" textLength=\"49\" x=\"40\" y=\"64.3638\">DoWork</text><polygon fill=\"#A80036\" points=\"263,94.5625,273,98.5625,263,102.5625,267,98.5625\" style=\"stroke: #A80036; stroke-width: 1.0;\"/><line style=\"stroke: #A80036; stroke-width: 1.0;\" x1=\"111\" x2=\"269\" y1=\"98.5625\" y2=\"98.5625\"/><text fill=\"#000000\" font-family=\"sans-serif\" font-size=\"13\" lengthAdjust=\"spacingAndGlyphs\" textLength=\"145\" x=\"118\" y=\"93.4966\">&lt;&lt; createRequest &gt;&gt;</text><polygon fill=\"#A80036\" points=\"362,123.6953,372,127.6953,362,131.6953,366,127.6953\" style=\"stroke: #A80036; stroke-width: 1.0;\"/><line style=\"stroke: #A80036; stroke-width: 1.0;\" x1=\"285\" x2=\"368\" y1=\"127.6953\" y2=\"127.6953\"/><text fill=\"#000000\" font-family=\"sans-serif\" font-size=\"13\" lengthAdjust=\"spacingAndGlyphs\" textLength=\"49\" x=\"292\" y=\"122.6294\">DoWork</text><polygon fill=\"#A80036\" points=\"296,152.8281,286,156.8281,296,160.8281,292,156.8281\" style=\"stroke: #A80036; stroke-width: 1.0;\"/><line style=\"stroke: #A80036; stroke-width: 1.0; stroke-dasharray: 2.0,2.0;\" x1=\"290\" x2=\"378\" y1=\"156.8281\" y2=\"156.8281\"/><text fill=\"#000000\" font-family=\"sans-serif\" font-size=\"13\" lengthAdjust=\"spacingAndGlyphs\" textLength=\"65\" x=\"302\" y=\"151.7622\">WorkDone</text><line style=\"stroke: #A80036; stroke-width: 2.0;\" x1=\"370\" x2=\"388\" y1=\"147.8281\" y2=\"165.8281\"/><line style=\"stroke: #A80036; stroke-width: 2.0;\" x1=\"370\" x2=\"388\" y1=\"165.8281\" y2=\"147.8281\"/><polygon fill=\"#A80036\" points=\"122,181.9609,112,185.9609,122,189.9609,118,185.9609\" style=\"stroke: #A80036; stroke-width: 1.0;\"/><line style=\"stroke: #A80036; stroke-width: 1.0; stroke-dasharray: 2.0,2.0;\" x1=\"116\" x2=\"279\" y1=\"185.9609\" y2=\"185.9609\"/><text fill=\"#000000\" font-family=\"sans-serif\" font-size=\"13\" lengthAdjust=\"spacingAndGlyphs\" textLength=\"103\" x=\"128\" y=\"180.895\">RequestCreated</text><polygon fill=\"#A80036\" points=\"44,211.0938,34,215.0938,44,219.0938,40,215.0938\" style=\"stroke: #A80036; stroke-width: 1.0;\"/><line style=\"stroke: #A80036; stroke-width: 1.0;\" x1=\"38\" x2=\"105\" y1=\"215.0938\" y2=\"215.0938\"/><text fill=\"#000000\" font-family=\"sans-serif\" font-size=\"13\" lengthAdjust=\"spacingAndGlyphs\" textLength=\"34\" x=\"50\" y=\"210.0278\">Done</text><!--MD5=[9743127205aa4135068d96cca55a6235]\n",
       "@startuml\r\n",
       "participant User\r\n",
       "\r\n",
       "User -> A: DoWork\r\n",
       "activate A\r\n",
       "\r\n",
       "A -> B: << createRequest >>\r\n",
       "activate B\r\n",
       "\r\n",
       "B -> C: DoWork\r\n",
       "activate C\r\n",
       "C - -> B: WorkDone\r\n",
       "destroy C\r\n",
       "\r\n",
       "B - -> A: RequestCreated\r\n",
       "deactivate B\r\n",
       "\r\n",
       "\r\n",
       "A -> User: Done\r\n",
       "deactivate A\r\n",
       "\r\n",
       "@enduml\r\n",
       "\n",
       "PlantUML version 1.2020.15(Sun Jun 28 11:39:45 GMT 2020)\n",
       "(GPL source distribution)\n",
       "Java Runtime: OpenJDK Runtime Environment\n",
       "JVM: OpenJDK 64-Bit Server VM\n",
       "Default Encoding: UTF-8\n",
       "Language: en\n",
       "Country: US\n",
       "--></g></svg>"
      ]
     },
     "metadata": {},
     "output_type": "display_data"
    }
   ],
   "source": [
    "%%plantUML\n",
    "@startuml\n",
    "participant User\n",
    "\n",
    "User -> A: DoWork\n",
    "activate A\n",
    "\n",
    "A -> B: << createRequest >>\n",
    "activate B\n",
    "\n",
    "B -> C: DoWork\n",
    "activate C\n",
    "C --> B: WorkDone\n",
    "destroy C\n",
    "\n",
    "B --> A: RequestCreated\n",
    "deactivate B\n",
    "\n",
    "\n",
    "A -> User: Done\n",
    "deactivate A\n",
    "\n",
    "@enduml"
   ]
  },
  {
   "cell_type": "markdown",
   "metadata": {},
   "source": [
    "## Shell"
   ]
  },
  {
   "cell_type": "code",
   "execution_count": 4,
   "metadata": {},
   "outputs": [],
   "source": [
    "import java.io.File;\n",
    "import java.io.InputStream;\n",
    "import java.util.function.Consumer;\n",
    "import java.util.concurrent.Future;\n",
    "\n",
    "private static class StreamGobbler implements Runnable {\n",
    "    private InputStream inputStream;\n",
    "    private Consumer<String> consumer;\n",
    "\n",
    "    public StreamGobbler(InputStream inputStream, Consumer<String> consumer) {\n",
    "        this.inputStream = inputStream;\n",
    "        this.consumer = consumer;\n",
    "    }\n",
    "\n",
    "    @Override\n",
    "    public void run() {\n",
    "        new BufferedReader(new InputStreamReader(inputStream)).lines()\n",
    "          .forEach(consumer);\n",
    "    }\n",
    "}\n",
    "\n",
    "IJava.getKernelInstance().getMagics().registerCellMagic(\"shell\", (args, body) -> {\n",
    "    String[] commands = {\"zsh\", \"-c\", body};\n",
    "    Process process = new ProcessBuilder()\n",
    "        //.redirectErrorStream(true)\n",
    "        .command(commands).start();\n",
    "\n",
    "    StreamGobbler streamGobbler =\n",
    "      new StreamGobbler(process.getInputStream(), System.out::println);\n",
    "    StreamGobbler streamGobblerErr =\n",
    "      new StreamGobbler(process.getErrorStream(), System.err::println);\n",
    "    Executors.newSingleThreadExecutor().submit(streamGobbler);\n",
    "    Executors.newSingleThreadExecutor().submit(streamGobblerErr);\n",
    "    \n",
    "    return process.waitFor();\n",
    "})"
   ]
  },
  {
   "cell_type": "code",
   "execution_count": 5,
   "metadata": {},
   "outputs": [
    {
     "name": "stdout",
     "output_type": "stream",
     "text": [
      "[INFO] Scanning for projects...\n",
      "[INFO] ------------------------------------------------------------------------\n",
      "[INFO] BUILD FAILURE\n",
      "[INFO] ------------------------------------------------------------------------\n",
      "[INFO] Total time:  0.074 s\n",
      "[INFO] Finished at: 2020-07-01T10:26:50Z\n",
      "[INFO] ------------------------------------------------------------------------\n",
      "[ERROR] No goals have been specified for this build. You must specify a valid lifecycle phase or a goal in the format <plugin-prefix>:<goal> or <plugin-group-id>:<plugin-artifact-id>[:<plugin-version>]:<goal>. Available lifecycle phases are: validate, initialize, generate-sources, process-sources, generate-resources, process-resources, compile, process-classes, generate-test-sources, process-test-sources, generate-test-resources, process-test-resources, test-compile, process-test-classes, test, prepare-package, package, pre-integration-test, integration-test, post-integration-test, verify, install, deploy, pre-clean, clean, post-clean, pre-site, site, post-site, site-deploy. -> [Help 1]\n",
      "[ERROR] \n",
      "[ERROR] To see the full stack trace of the errors, re-run Maven with the -e switch.\n",
      "[ERROR] Re-run Maven using the -X switch to enable full debug logging.\n",
      "[ERROR] \n",
      "[ERROR] For more information about the errors and possible solutions, please read the following articles:\n",
      "[ERROR] [Help 1] http://cwiki.apache.org/confluence/display/MAVEN/NoGoalSpecifiedException\n"
     ]
    }
   ],
   "source": [
    "%%shell\n",
    "mvn -ntp"
   ]
  },
  {
   "cell_type": "code",
   "execution_count": 7,
   "metadata": {},
   "outputs": [
    {
     "name": "stdout",
     "output_type": "stream",
     "text": [
      "/usr/share/maven\n",
      "/opt/java/openjdk\n"
     ]
    }
   ],
   "source": [
    "%%shell\n",
    "echo $MAVEN_HOME\n",
    "echo $JAVA_HOME"
   ]
  },
  {
   "cell_type": "code",
   "execution_count": 8,
   "metadata": {},
   "outputs": [],
   "source": [
    "%%loadFromPOM\n",
    "<dependency>\n",
    "  <groupId>org.jooq</groupId>\n",
    "  <artifactId>joor</artifactId>\n",
    "  <version>0.9.12</version>\n",
    "</dependency>\n",
    "\n",
    "<dependency>\n",
    "    <groupId>org.projectlombok</groupId>\n",
    "    <artifactId>lombok</artifactId>\n",
    "    <version>1.18.12</version>\n",
    "</dependency>\n",
    "\n",
    "<dependency>\n",
    "    <groupId>org.reflections</groupId>\n",
    "    <artifactId>reflections</artifactId>\n",
    "    <version>0.9.11</version>\n",
    "</dependency>\n"
   ]
  },
  {
   "cell_type": "code",
   "execution_count": 9,
   "metadata": {},
   "outputs": [
    {
     "name": "stdout",
     "output_type": "stream",
     "text": [
      "class com.example.CompileTest\n"
     ]
    },
    {
     "data": {
      "text/plain": [
       "(class com.example.CompileTest)"
      ]
     },
     "execution_count": 9,
     "metadata": {},
     "output_type": "execute_result"
    }
   ],
   "source": [
    "import org.joor.Reflect;\n",
    "import java.util.function.Supplier;\n",
    "import org.reflections.*;\n",
    "\n",
    "String className=\"com.example.CompileTest\";\n",
    "String content=\"\"\"\n",
    "//    package REPL;\n",
    "    package com.example;\n",
    "    import lombok.*;\n",
    "    \n",
    "    @Data\n",
    "    //@Builder\n",
    "    public class CompileTest\n",
    "    implements java.util.function.Supplier<String> {\n",
    "      private static int lastId=0;\n",
    "      private int id=++lastId;\n",
    "      public String get() {\n",
    "        return \"Hello World!\";\n",
    "      }\n",
    "    }\"\"\";\n",
    "\n",
    "                \n",
    "Object o = Reflect.compile(className,content);\n",
    "System.out.println(o);\n",
    "//java.util.Enumeration x=o.getClassLoader() .getResources(\"com/example/o.getSimpleName()\"+\".class\");\n",
    "/*while (x.hasMoreElements()) \n",
    "    System.out.println(\"[\"+x.nextElement()+\"]\");*/\n",
    "\"(\"+o+\")\""
   ]
  },
  {
   "cell_type": "code",
   "execution_count": 10,
   "metadata": {},
   "outputs": [
    {
     "ename": "CompilationException",
     "evalue": "",
     "output_type": "error",
     "traceback": [
      "\u001b[1m\u001b[30m|   \u001b[1m\u001b[30m\u001b[0m\u001b[1m\u001b[30m\u001b[41mo.getClassLoader\u001b[0m\u001b[1m\u001b[30m().loadClass(\"com.example.CompileTest\");\u001b[0m",
      "\u001b[1m\u001b[31mcannot find symbol\u001b[0m",
      "\u001b[1m\u001b[31m  symbol:   method getClassLoader()\u001b[0m",
      ""
     ]
    }
   ],
   "source": [
    "o.getClassLoader().loadClass(\"com.example.CompileTest\");"
   ]
  },
  {
   "cell_type": "code",
   "execution_count": 11,
   "metadata": {},
   "outputs": [
    {
     "ename": "CompilationException",
     "evalue": "",
     "output_type": "error",
     "traceback": [
      "\u001b[1m\u001b[30m|   \u001b[1m\u001b[30m\u001b[0m\u001b[1m\u001b[30m\u001b[41mo.newInstance\u001b[0m\u001b[1m\u001b[30m();\u001b[0m",
      "\u001b[1m\u001b[31mcannot find symbol\u001b[0m",
      "\u001b[1m\u001b[31m  symbol:   method newInstance()\u001b[0m",
      ""
     ]
    }
   ],
   "source": [
    "o.newInstance();"
   ]
  },
  {
   "cell_type": "code",
   "execution_count": null,
   "metadata": {},
   "outputs": [],
   "source": []
  },
  {
   "cell_type": "code",
   "execution_count": 12,
   "metadata": {},
   "outputs": [
    {
     "ename": "CompilationException",
     "evalue": "",
     "output_type": "error",
     "traceback": [
      "\u001b[1m\u001b[30m|   \u001b[1m\u001b[30m\u001b[0m\u001b[1m\u001b[30m\u001b[41mcom.example.CompileTest\u001b[0m\u001b[1m\u001b[30m t;\u001b[0m",
      "\u001b[1m\u001b[31mpackage com.example does not exist\u001b[0m",
      ""
     ]
    }
   ],
   "source": [
    "com.example.CompileTest t;"
   ]
  },
  {
   "cell_type": "code",
   "execution_count": 13,
   "metadata": {},
   "outputs": [
    {
     "ename": "CompilationException",
     "evalue": "",
     "output_type": "error",
     "traceback": [
      "\u001b[1m\u001b[30m|   \u001b[1m\u001b[30m\u001b[0m\u001b[1m\u001b[30m\u001b[41mx\u001b[0m\u001b[1m\u001b[30m.getClass().getClassLoader();\u001b[0m",
      "\u001b[1m\u001b[31mcannot find symbol\u001b[0m",
      "\u001b[1m\u001b[31m  symbol:   variable x\u001b[0m",
      ""
     ]
    }
   ],
   "source": [
    "x.getClass().getClassLoader();"
   ]
  },
  {
   "cell_type": "code",
   "execution_count": 14,
   "metadata": {},
   "outputs": [],
   "source": [
    "import java.io.ByteArrayOutputStream;\n",
    "import java.io.File;\n",
    "import java.io.FilterOutputStream;\n",
    "import java.io.IOException;\n",
    "import java.io.OutputStream;\n",
    "import java.net.URI;\n",
    "import java.nio.CharBuffer;\n",
    "import java.util.HashMap;\n",
    "import java.util.Map;\n",
    "\n",
    "import javax.tools.FileObject;\n",
    "import javax.tools.ForwardingJavaFileManager;\n",
    "import javax.tools.JavaFileManager;\n",
    "import javax.tools.JavaFileObject;\n",
    "import javax.tools.JavaFileObject.Kind;\n",
    "import javax.tools.SimpleJavaFileObject;\n",
    "\n",
    "/**\n",
    " * JavaFileManager that keeps compiled .class bytes in memory.\n",
    " */\n",
    "@SuppressWarnings(\"unchecked\")\n",
    "final class MemoryJavaFileManager extends ForwardingJavaFileManager {\n",
    "\n",
    "    /** Java source file extension. */\n",
    "    private final static String EXT = \".java\";\n",
    "\n",
    "    private Map<String, byte[]> classBytes;\n",
    "\n",
    "    public MemoryJavaFileManager(JavaFileManager fileManager) {\n",
    "        super(fileManager);\n",
    "        classBytes = new HashMap<>();\n",
    "    }\n",
    "\n",
    "    public Map<String, byte[]> getClassBytes() {\n",
    "        return classBytes;\n",
    "    }\n",
    "\n",
    "    public void close() throws IOException {\n",
    "        classBytes = null;\n",
    "    }\n",
    "\n",
    "    public void flush() throws IOException {\n",
    "    }\n",
    "\n",
    "    /**\n",
    "     * A file object used to represent Java source coming from a string.\n",
    "     */\n",
    "    private static class StringInputBuffer extends SimpleJavaFileObject {\n",
    "        final String code;\n",
    "\n",
    "        StringInputBuffer(String fileName, String code) {\n",
    "            super(toURI(fileName), Kind.SOURCE);\n",
    "            this.code = code;\n",
    "        }\n",
    "\n",
    "        public CharBuffer getCharContent(boolean ignoreEncodingErrors) {\n",
    "            return CharBuffer.wrap(code);\n",
    "        }\n",
    "    }\n",
    "\n",
    "    /**\n",
    "     * A file object that stores Java bytecode into the classBytes map.\n",
    "     */\n",
    "    private class ClassOutputBuffer extends SimpleJavaFileObject {\n",
    "        private String name;\n",
    "\n",
    "        ClassOutputBuffer(String name) {\n",
    "            super(toURI(name), Kind.CLASS);\n",
    "            this.name = name;\n",
    "        }\n",
    "\n",
    "        public OutputStream openOutputStream() {\n",
    "            return new FilterOutputStream(new ByteArrayOutputStream()) {\n",
    "                public void close() throws IOException {\n",
    "                    out.close();\n",
    "                    ByteArrayOutputStream bos = (ByteArrayOutputStream)out;\n",
    "                    classBytes.put(name, bos.toByteArray());\n",
    "                }\n",
    "            };\n",
    "        }\n",
    "    }\n",
    "\n",
    "    public JavaFileObject getJavaFileForOutput(JavaFileManager.Location location,\n",
    "        String className,\n",
    "        Kind kind,\n",
    "        FileObject sibling) throws IOException {\n",
    "        if (kind == Kind.CLASS) {\n",
    "            return new ClassOutputBuffer(className);\n",
    "        } else {\n",
    "            return super.getJavaFileForOutput(location, className, kind, sibling);\n",
    "        }\n",
    "    }\n",
    "\n",
    "    static JavaFileObject makeStringSource(String fileName, String code) {\n",
    "        return new StringInputBuffer(fileName, code);\n",
    "    }\n",
    "\n",
    "    static URI toURI(String name) {\n",
    "        File file = new File(name);\n",
    "        if (file.exists()) {\n",
    "            return file.toURI();\n",
    "        } else {\n",
    "            try {\n",
    "                final StringBuilder newUri = new StringBuilder();\n",
    "                newUri.append(\"mfm:///\");\n",
    "                newUri.append(name.replace('.', '/'));\n",
    "                if(name.endsWith(EXT)) newUri.replace(newUri.length() - EXT.length(), newUri.length(), EXT);\n",
    "                return URI.create(newUri.toString());\n",
    "            } catch (Exception exp) {\n",
    "                return URI.create(\"mfm:///com/sun/script/java/java_source\");\n",
    "            }\n",
    "        }\n",
    "    }\n",
    "}"
   ]
  },
  {
   "cell_type": "code",
   "execution_count": 15,
   "metadata": {},
   "outputs": [],
   "source": [
    "import java.io.File;\n",
    "import java.net.MalformedURLException;\n",
    "import java.net.URL;\n",
    "import java.net.URLClassLoader;\n",
    "import java.util.ArrayList;\n",
    "import java.util.List;\n",
    "import java.util.Map;\n",
    "import java.util.StringTokenizer;\n",
    "\n",
    "/**\n",
    " * ClassLoader that loads .class bytes from memory.\n",
    " */\n",
    "final class MemoryClassLoader extends URLClassLoader {\n",
    "    private Map<String, byte[]> classBytes;\n",
    "\n",
    "    public MemoryClassLoader(Map<String, byte[]> classBytes,\n",
    "        String classPath, ClassLoader parent) {\n",
    "        super(toURLs(classPath), parent);\n",
    "        this.classBytes = classBytes;\n",
    "    }\n",
    "\n",
    "    public MemoryClassLoader(Map<String, byte[]> classBytes, String classPath) {\n",
    "        this(classBytes, classPath, ClassLoader.getSystemClassLoader());\n",
    "    }\n",
    "\n",
    "    public MemoryClassLoader(Map<String, byte[]> classBytes) {\n",
    "        this(classBytes, null, ClassLoader.getSystemClassLoader());\n",
    "    }\n",
    "\n",
    "    public Class load(String className) throws ClassNotFoundException {\n",
    "        return loadClass(className);\n",
    "    }\n",
    "\n",
    "    public Iterable<Class> loadAll() throws ClassNotFoundException {\n",
    "        List<Class> classes = new ArrayList<Class>(classBytes.size());\n",
    "        for (String name : classBytes.keySet()) {\n",
    "            classes.add(loadClass(name));\n",
    "        }\n",
    "        return classes;\n",
    "    }\n",
    "\n",
    "    protected Class findClass(String className) throws ClassNotFoundException {\n",
    "        byte[] buf = classBytes.get(className);\n",
    "        if (buf != null) {\n",
    "            // clear the bytes in map -- we don't need it anymore\n",
    "            classBytes.put(className, null);\n",
    "            return defineClass(className, buf, 0, buf.length);\n",
    "        } else {\n",
    "            return super.findClass(className);\n",
    "        }\n",
    "    }\n",
    "\n",
    "    private static URL[] toURLs(String classPath) {\n",
    "        if (classPath == null) {\n",
    "            return new URL[0];\n",
    "        }\n",
    "\n",
    "        List<URL> list = new ArrayList<URL>();\n",
    "        StringTokenizer st = new StringTokenizer(classPath, File.pathSeparator);\n",
    "        while (st.hasMoreTokens()) {\n",
    "            String token = st.nextToken();\n",
    "            File file = new File(token);\n",
    "            if (file.exists()) {\n",
    "                try {\n",
    "                    list.add(file.toURI().toURL());\n",
    "                } catch (MalformedURLException mue) {}\n",
    "            } else {\n",
    "                try {\n",
    "                    list.add(new URL(token));\n",
    "                } catch (MalformedURLException mue) {}\n",
    "            }\n",
    "        }\n",
    "        URL[] res = new URL[list.size()];\n",
    "        list.toArray(res);\n",
    "        return res;\n",
    "    }\n",
    "}"
   ]
  },
  {
   "cell_type": "code",
   "execution_count": 16,
   "metadata": {},
   "outputs": [],
   "source": [
    "import java.io.IOException;\n",
    "import java.io.PrintWriter;\n",
    "import java.io.Writer;\n",
    "import java.lang.reflect.Method;\n",
    "import java.util.ArrayList;\n",
    "import java.util.List;\n",
    "import java.util.Map;\n",
    "\n",
    "import javax.tools.*;\n",
    "\n",
    "/**\n",
    " * Simple interface to Java compiler using JSR 199 Compiler API.\n",
    " */\n",
    "public class MemoryJavaCompiler {\n",
    "    private javax.tools.JavaCompiler tool;\n",
    "    private StandardJavaFileManager stdManager;\n",
    "\n",
    "    public MemoryJavaCompiler() {\n",
    "        tool = ToolProvider.getSystemJavaCompiler();\n",
    "        if (tool == null) {\n",
    "            throw new RuntimeException(\"Could not get Java compiler. Please, ensure that JDK is used instead of JRE.\");\n",
    "        }\n",
    "        stdManager = tool.getStandardFileManager(null, null, null);\n",
    "    }\n",
    "\n",
    "    /**\n",
    "     * Compile a single static method.\n",
    "     */\n",
    "    public Method compileStaticMethod(final String methodName, final String className,\n",
    "        final String source)\n",
    "        throws ClassNotFoundException {\n",
    "        final Map<String, byte[]> classBytes = compile(className + \".java\", source);\n",
    "        final MemoryClassLoader classLoader = new MemoryClassLoader(classBytes);\n",
    "        final Class clazz = classLoader.loadClass(className);\n",
    "        final Method[] methods = clazz.getDeclaredMethods();\n",
    "        for (final Method method : methods) {\n",
    "            if (method.getName().equals(methodName)) {\n",
    "                if (!method.isAccessible()) method.setAccessible(true);\n",
    "                return method;\n",
    "            }\n",
    "        }\n",
    "        throw new NoSuchMethodError(methodName);\n",
    "    }\n",
    "\n",
    "\n",
    "    public Map<String, byte[]> compile(String fileName, String source) {\n",
    "        return compile(fileName, source, new PrintWriter(System.err), null, null);\n",
    "    }\n",
    "\n",
    "\n",
    "    /**\n",
    "     * compile given String source and return bytecodes as a Map.\n",
    "     *\n",
    "     * @param fileName source fileName to be used for error messages etc.\n",
    "     * @param source Java source as String\n",
    "     * @param err error writer where diagnostic messages are written\n",
    "     * @param sourcePath location of additional .java source files\n",
    "     * @param classPath location of additional .class files\n",
    "     */\n",
    "    private Map<String, byte[]> compile(String fileName, String source,\n",
    "        Writer err, String sourcePath, String classPath) {\n",
    "        // to collect errors, warnings etc.\n",
    "        DiagnosticCollector<JavaFileObject> diagnostics =\n",
    "            new DiagnosticCollector<JavaFileObject>();\n",
    "\n",
    "        // create a new memory JavaFileManager\n",
    "        MemoryJavaFileManager fileManager = new MemoryJavaFileManager(stdManager);\n",
    "\n",
    "        // prepare the compilation unit\n",
    "        List<JavaFileObject> compUnits = new ArrayList<JavaFileObject>(1);\n",
    "        compUnits.add(fileManager.makeStringSource(fileName, source));\n",
    "\n",
    "        return compile(compUnits, fileManager, err, sourcePath, classPath);\n",
    "    }\n",
    "\n",
    "    private Map<String, byte[]> compile(final List<JavaFileObject> compUnits, \n",
    "        final MemoryJavaFileManager fileManager,\n",
    "        Writer err, String sourcePath, String classPath) {\n",
    "        // to collect errors, warnings etc.\n",
    "        DiagnosticCollector<JavaFileObject> diagnostics =\n",
    "            new DiagnosticCollector<JavaFileObject>();\n",
    "\n",
    "        // javac options\n",
    "        List<String> options = new ArrayList<String>();\n",
    "        options.add(\"-Xlint:all\");\n",
    "        //      options.add(\"-g:none\");\n",
    "        options.add(\"-deprecation\");\n",
    "        if (sourcePath != null) {\n",
    "            options.add(\"-sourcepath\");\n",
    "            options.add(sourcePath);\n",
    "        }\n",
    "\n",
    "        if (classPath != null) {\n",
    "            options.add(\"-classpath\");\n",
    "            options.add(classPath);\n",
    "        }\n",
    "\n",
    "        // create a compilation task\n",
    "        javax.tools.JavaCompiler.CompilationTask task =\n",
    "            tool.getTask(err, fileManager, diagnostics,\n",
    "                options, null, compUnits);\n",
    "\n",
    "        if (task.call() == false) {\n",
    "            PrintWriter perr = new PrintWriter(err);\n",
    "            for (Diagnostic diagnostic : diagnostics.getDiagnostics()) {\n",
    "                perr.println(diagnostic);\n",
    "            }\n",
    "            perr.flush();\n",
    "            return null;\n",
    "        }\n",
    "\n",
    "        Map<String, byte[]> classBytes = fileManager.getClassBytes();\n",
    "        try {\n",
    "            fileManager.close();\n",
    "        } catch (IOException exp) {\n",
    "        }\n",
    "\n",
    "        return classBytes;\n",
    "    }\n",
    "}"
   ]
  },
  {
   "cell_type": "code",
   "execution_count": 17,
   "metadata": {},
   "outputs": [],
   "source": [
    "MemoryJavaCompiler compiler = new MemoryJavaCompiler();"
   ]
  },
  {
   "cell_type": "code",
   "execution_count": 18,
   "metadata": {},
   "outputs": [],
   "source": [
    "String fileName=\"CompileTest.java\";\n",
    "String content=\"\"\"\n",
    "    //package com.example;\n",
    "    package REPL;\n",
    "    //import lombok.*;\n",
    "    \n",
    "    //@Data\n",
    "    //@Builder\n",
    "    public class CompileTest\n",
    "    implements java.util.function.Supplier<String> {\n",
    "      private static int lastId=0;\n",
    "      private int id=++lastId;\n",
    "      public String get() {\n",
    "        return \"Hello World!\";\n",
    "      }\n",
    "    }\"\"\";\n"
   ]
  },
  {
   "cell_type": "code",
   "execution_count": 19,
   "metadata": {},
   "outputs": [
    {
     "data": {
      "text/plain": [
       "{REPL.CompileTest=[B@5d904623}"
      ]
     },
     "execution_count": 19,
     "metadata": {},
     "output_type": "execute_result"
    }
   ],
   "source": [
    "Map<String,byte[]>classes=compiler.compile(fileName,content);\n",
    "classes;"
   ]
  },
  {
   "cell_type": "code",
   "execution_count": 20,
   "metadata": {},
   "outputs": [
    {
     "ename": "EvalException",
     "evalue": "null",
     "output_type": "error",
     "traceback": [
      "\u001b[1m\u001b[31m---------------------------------------------------------------------------\u001b[0m",
      "\u001b[1m\u001b[31mjava.lang.NullPointerException: null\u001b[0m",
      "\u001b[1m\u001b[31m\tat .(#92:1)\u001b[0m"
     ]
    }
   ],
   "source": [
    "classes.get(\"com.example.CompileTest\").getClass();"
   ]
  },
  {
   "cell_type": "code",
   "execution_count": 21,
   "metadata": {},
   "outputs": [
    {
     "ename": "CompilationException",
     "evalue": "",
     "output_type": "error",
     "traceback": [
      "\u001b[1m\u001b[30m|   \u001b[1m\u001b[30m\u001b[0m\u001b[1m\u001b[30m\u001b[41mcompiler.getClass().getClassLoader().defineClass\u001b[0m\u001b[1m\u001b[30m(className,classes.get(\"CompileTest\"),0,classes.get(\"CompileTest\").length);\u001b[0m",
      "\u001b[1m\u001b[31mno suitable method found for defineClass(java.lang.String,byte[],int,int)\u001b[0m",
      "\u001b[1m\u001b[31m    method java.lang.ClassLoader.defineClass(byte[],int,int) is not applicable\u001b[0m",
      "\u001b[1m\u001b[31m      (actual and formal argument lists differ in length)\u001b[0m",
      "\u001b[1m\u001b[31m    method java.lang.ClassLoader.defineClass(java.lang.String,byte[],int,int,java.security.ProtectionDomain) is not applicable\u001b[0m",
      "\u001b[1m\u001b[31m      (actual and formal argument lists differ in length)\u001b[0m",
      "\u001b[1m\u001b[31m    method java.lang.ClassLoader.defineClass(java.lang.String,java.nio.ByteBuffer,java.security.ProtectionDomain) is not applicable\u001b[0m",
      "\u001b[1m\u001b[31m      (actual and formal argument lists differ in length)\u001b[0m",
      ""
     ]
    }
   ],
   "source": [
    "compiler.getClass().getClassLoader().defineClass(className,classes.get(\"CompileTest\"),0,classes.get(\"CompileTest\").length);"
   ]
  },
  {
   "cell_type": "code",
   "execution_count": 22,
   "metadata": {},
   "outputs": [],
   "source": [
    "import static java.lang.StackWalker.Option.RETAIN_CLASS_REFERENCE;\n",
    "\n",
    "private ClassLoader createClassLoader(Map<String,byte[]> classes) {\n",
    "        return new ClassLoader() {\n",
    "            @Override\n",
    "            public Class<?> findClass(String name) throws ClassNotFoundException {\n",
    "                return defineClass(name, classes.get(name), 0, classes.get(name).length);\n",
    "            }\n",
    "        };\n",
    "    }\n",
    "\n",
    "class MyClassLoader extends ClassLoader {\n",
    "     public Class findClass(String name) {\n",
    "             return defineClass(name, classes.get(name), 0, classes.get(name).length);\n",
    "         }\n",
    "\n",
    "}"
   ]
  },
  {
   "cell_type": "code",
   "execution_count": 23,
   "metadata": {},
   "outputs": [
    {
     "ename": "CompilationException",
     "evalue": "",
     "output_type": "error",
     "traceback": [
      "\u001b[1m\u001b[30m|   \u001b[1m\u001b[30m\u001b[0m\u001b[1m\u001b[30m\u001b[41mcreateClassLoader(classes).findClass\u001b[0m\u001b[1m\u001b[30m(\"com.example.CompileTest\");\u001b[0m",
      "\u001b[1m\u001b[31mmethod findClass in class java.lang.ClassLoader cannot be applied to given types;\u001b[0m",
      "\u001b[1m\u001b[31m  required: java.lang.String,java.lang.String\u001b[0m",
      "\u001b[1m\u001b[31m  found:    java.lang.String\u001b[0m",
      "\u001b[1m\u001b[31m  reason: actual and formal argument lists differ in length\u001b[0m",
      ""
     ]
    }
   ],
   "source": [
    "createClassLoader(classes).findClass(\"com.example.CompileTest\");"
   ]
  },
  {
   "cell_type": "code",
   "execution_count": 24,
   "metadata": {},
   "outputs": [
    {
     "ename": "EvalException",
     "evalue": "null",
     "output_type": "error",
     "traceback": [
      "\u001b[1m\u001b[31m---------------------------------------------------------------------------\u001b[0m",
      "\u001b[1m\u001b[31mjava.lang.NullPointerException: null\u001b[0m",
      "\u001b[1m\u001b[31m\tat MyClassLoader.findClass(#96:1)\u001b[0m",
      "\u001b[1m\u001b[31m\tat .(#98:1)\u001b[0m"
     ]
    }
   ],
   "source": [
    "Object c=new MyClassLoader().findClass(\"com.example.CompileTest\").newInstance();"
   ]
  },
  {
   "cell_type": "code",
   "execution_count": 25,
   "metadata": {},
   "outputs": [
    {
     "ename": "CompilationException",
     "evalue": "",
     "output_type": "error",
     "traceback": [
      "\u001b[1m\u001b[30m|   \u001b[1m\u001b[30m\u001b[0m\u001b[1m\u001b[30m\u001b[41mcom.example.CompileTest\u001b[0m\u001b[1m\u001b[30m C;\u001b[0m",
      "\u001b[1m\u001b[31mpackage com.example does not exist\u001b[0m",
      ""
     ]
    }
   ],
   "source": [
    "com.example.CompileTest C;"
   ]
  },
  {
   "cell_type": "code",
   "execution_count": null,
   "metadata": {},
   "outputs": [],
   "source": []
  },
  {
   "cell_type": "code",
   "execution_count": 26,
   "metadata": {},
   "outputs": [
    {
     "ename": "CompilationException",
     "evalue": "",
     "output_type": "error",
     "traceback": [
      "\u001b[1m\u001b[30m|   \u001b[1m\u001b[30m                        result = \u001b[0m\u001b[1m\u001b[30m\u001b[41mfileManager\u001b[0m\u001b[1m\u001b[30m.loadAndReturnMainClass(className,\u001b[0m",
      "\u001b[1m\u001b[31mcannot find symbol\u001b[0m",
      "\u001b[1m\u001b[31m  symbol:   variable fileManager\u001b[0m",
      ""
     ]
    }
   ],
   "source": [
    "import static java.lang.StackWalker.Option.RETAIN_CLASS_REFERENCE;\n",
    "import java.lang.invoke.MethodHandles;\n",
    "import java.lang.invoke.MethodHandles.Lookup;\n",
    "\n",
    "\n",
    "Lookup lookup = MethodHandles.lookup();\n",
    "\n",
    "Class<?> result = null;\n",
    "\n",
    "\n",
    "Class<?> caller = StackWalker\n",
    "                        .getInstance(RETAIN_CLASS_REFERENCE)\n",
    "                        .walk(s -> s\n",
    "                            .skip(2)\n",
    "                            .findFirst()\n",
    "                            .get()\n",
    "                            .getDeclaringClass());\n",
    "\n",
    "if (className.startsWith(caller.getPackageName() + \".\") &&\n",
    "\n",
    "                        // [#74] This heuristic is necessary to prevent classes in subpackages of the caller to be loaded\n",
    "                        //       this way, as subpackages cannot access private content in super packages.\n",
    "                        //       The heuristic will work only with classes that follow standard naming conventions.\n",
    "                        //       A better implementation is difficult at this point.\n",
    "                        Character.isUpperCase(className.charAt(caller.getPackageName().length() + 1))) {\n",
    "                        Lookup privateLookup = MethodHandles.privateLookupIn(caller, lookup);\n",
    "                        result = fileManager.loadAndReturnMainClass(className,\n",
    "                            (name, bytes) -> privateLookup.defineClass(bytes));\n",
    "                    }"
   ]
  },
  {
   "cell_type": "code",
   "execution_count": 27,
   "metadata": {},
   "outputs": [],
   "source": [
    "class Titi {}"
   ]
  },
  {
   "cell_type": "code",
   "execution_count": 28,
   "metadata": {},
   "outputs": [],
   "source": [
    "Titi titi = new Titi();"
   ]
  },
  {
   "cell_type": "code",
   "execution_count": 29,
   "metadata": {},
   "outputs": [
    {
     "data": {
      "text/plain": [
       "package REPL"
      ]
     },
     "execution_count": 29,
     "metadata": {},
     "output_type": "execute_result"
    }
   ],
   "source": [
    "titi.getClass().getPackage();"
   ]
  },
  {
   "cell_type": "code",
   "execution_count": 30,
   "metadata": {},
   "outputs": [
    {
     "data": {
      "text/plain": [
       "class REPL.$JShell$106$Titi"
      ]
     },
     "execution_count": 30,
     "metadata": {},
     "output_type": "execute_result"
    }
   ],
   "source": [
    "titi.getClass();"
   ]
  },
  {
   "cell_type": "code",
   "execution_count": null,
   "metadata": {},
   "outputs": [],
   "source": []
  },
  {
   "cell_type": "code",
   "execution_count": null,
   "metadata": {},
   "outputs": [],
   "source": []
  }
 ],
 "metadata": {
  "kernelspec": {
   "display_name": "Java",
   "language": "java",
   "name": "java"
  },
  "language_info": {
   "codemirror_mode": "java",
   "file_extension": ".jshell",
   "mimetype": "text/x-java-source",
   "name": "Java",
   "pygments_lexer": "java",
   "version": "14.0.1+7"
  }
 },
 "nbformat": 4,
 "nbformat_minor": 4
}
